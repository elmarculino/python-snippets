{
 "cells": [
  {
   "cell_type": "markdown",
   "metadata": {},
   "source": [
    "# Useful Python Function \n",
    "\n",
    "source: [30 seconds of Python](https://github.com/30-seconds/30-seconds-of-python)\n"
   ]
  },
  {
   "cell_type": "markdown",
   "metadata": {},
   "source": [
    "### all_equal\n",
    "\n",
    "Checks if all elements in a list are equal.\n",
    "\n",
    "Use `[1:]` and `[:-1]` to compare all the values in the given list."
   ]
  },
  {
   "cell_type": "code",
   "execution_count": 1,
   "metadata": {},
   "outputs": [],
   "source": [
    "def all_equal(lst):\n",
    "  return lst[1:] == lst[:-1]"
   ]
  },
  {
   "cell_type": "code",
   "execution_count": 2,
   "metadata": {},
   "outputs": [
    {
     "data": {
      "text/plain": [
       "False"
      ]
     },
     "execution_count": 2,
     "metadata": {},
     "output_type": "execute_result"
    }
   ],
   "source": [
    "all_equal([1, 2, 3, 4, 5, 6]) # False"
   ]
  },
  {
   "cell_type": "code",
   "execution_count": 3,
   "metadata": {},
   "outputs": [
    {
     "data": {
      "text/plain": [
       "True"
      ]
     },
     "execution_count": 3,
     "metadata": {},
     "output_type": "execute_result"
    }
   ],
   "source": [
    "all_equal([1, 1, 1, 1]) # True"
   ]
  },
  {
   "cell_type": "markdown",
   "metadata": {},
   "source": [
    "### all_unique\n",
    "\n",
    "Returns `True` if all the values in a list are unique, `False` otherwise.\n",
    "\n",
    "Use `set()` on the given list to remove duplicates, use `len()` to compare its length with the length of the list."
   ]
  },
  {
   "cell_type": "code",
   "execution_count": 4,
   "metadata": {},
   "outputs": [],
   "source": [
    "def all_unique(lst):\n",
    "  return len(lst) == len(set(lst))"
   ]
  },
  {
   "cell_type": "code",
   "execution_count": 5,
   "metadata": {},
   "outputs": [
    {
     "data": {
      "text/plain": [
       "True"
      ]
     },
     "execution_count": 5,
     "metadata": {},
     "output_type": "execute_result"
    }
   ],
   "source": [
    "all_unique([1, 2, 3, 4, 5, 6]) # True"
   ]
  },
  {
   "cell_type": "code",
   "execution_count": 6,
   "metadata": {},
   "outputs": [
    {
     "data": {
      "text/plain": [
       "False"
      ]
     },
     "execution_count": 6,
     "metadata": {},
     "output_type": "execute_result"
    }
   ],
   "source": [
    "all_unique([1, 2, 2, 3, 4, 5]) # False"
   ]
  },
  {
   "cell_type": "markdown",
   "metadata": {},
   "source": [
    "### average_by\n",
    "\n",
    "Returns the average of a list, after mapping each element to a value using the provided function.\n",
    "\n",
    "Use `map()` to map each element to the value returned by `fn`.\n",
    "Use `sum()` to sum all of the mapped values, divide by `len(lst)`."
   ]
  },
  {
   "cell_type": "code",
   "execution_count": 7,
   "metadata": {},
   "outputs": [],
   "source": [
    "def average_by(lst, fn=lambda x: x):\n",
    "  return sum(map(fn, lst), 0.0) / len(lst)"
   ]
  },
  {
   "cell_type": "code",
   "execution_count": 8,
   "metadata": {},
   "outputs": [
    {
     "data": {
      "text/plain": [
       "5.0"
      ]
     },
     "execution_count": 8,
     "metadata": {},
     "output_type": "execute_result"
    }
   ],
   "source": [
    "average_by([{ 'n': 4 }, { 'n': 2 }, { 'n': 8 }, { 'n': 6 }], lambda x: x['n']) # 5.0"
   ]
  },
  {
   "cell_type": "markdown",
   "metadata": {},
   "source": [
    "### average\n",
    "\n",
    "Returns the average of two or more numbers.\n",
    "\n",
    "Use `sum()` to sum all of the `args` provided, divide by `len(args)`."
   ]
  },
  {
   "cell_type": "code",
   "execution_count": 9,
   "metadata": {},
   "outputs": [],
   "source": [
    "def average(*args):\n",
    "  return sum(args, 0.0) / len(args)"
   ]
  },
  {
   "cell_type": "code",
   "execution_count": 10,
   "metadata": {},
   "outputs": [
    {
     "data": {
      "text/plain": [
       "2.0"
      ]
     },
     "execution_count": 10,
     "metadata": {},
     "output_type": "execute_result"
    }
   ],
   "source": [
    "average(*[1, 2, 3]) # 2.0"
   ]
  },
  {
   "cell_type": "code",
   "execution_count": 11,
   "metadata": {},
   "outputs": [
    {
     "data": {
      "text/plain": [
       "2.0"
      ]
     },
     "execution_count": 11,
     "metadata": {},
     "output_type": "execute_result"
    }
   ],
   "source": [
    "average(1, 2, 3) # 2.0"
   ]
  },
  {
   "cell_type": "markdown",
   "metadata": {},
   "source": [
    "### bifurcate_by\n",
    "\n",
    "Splits values into two groups according to a function, which specifies which group an element in the input list belongs to.\n",
    "If the function returns `True`, the element belongs to the first group; otherwise, it belongs to the second group.\n",
    "\n",
    "Use list comprehension to add elements to groups, based on `fn`."
   ]
  },
  {
   "cell_type": "code",
   "execution_count": 12,
   "metadata": {},
   "outputs": [],
   "source": [
    "def bifurcate_by(lst, fn):\n",
    "  return [\n",
    "    [x for x in lst if fn(x)],\n",
    "    [x for x in lst if not fn(x)]\n",
    "  ]"
   ]
  },
  {
   "cell_type": "code",
   "execution_count": 13,
   "metadata": {},
   "outputs": [
    {
     "data": {
      "text/plain": [
       "[['beep', 'boop', 'bar'], ['foo']]"
      ]
     },
     "execution_count": 13,
     "metadata": {},
     "output_type": "execute_result"
    }
   ],
   "source": [
    "bifurcate_by(\n",
    "  ['beep', 'boop', 'foo', 'bar'],\n",
    "  lambda x: x[0] == 'b'\n",
    ") # [ ['beep', 'boop', 'bar'], ['foo'] ]"
   ]
  },
  {
   "cell_type": "markdown",
   "metadata": {},
   "source": [
    "### bifurcate\n",
    "\n",
    "Splits values into two groups.\n",
    "If an element in `filter` is `True`, the corresponding element in the collection belongs to the first group; otherwise, it belongs to the second group.\n",
    "\n",
    "Use list comprehension and `enumerate()` to add elements to groups, based on `filter`."
   ]
  },
  {
   "cell_type": "code",
   "execution_count": 14,
   "metadata": {},
   "outputs": [],
   "source": [
    "def bifurcate(lst, filter):\n",
    "  return [\n",
    "    [x for i, x in enumerate(lst) if filter[i] == True],\n",
    "    [x for i, x in enumerate(lst) if filter[i] == False]\n",
    "  ]"
   ]
  },
  {
   "cell_type": "code",
   "execution_count": 15,
   "metadata": {},
   "outputs": [
    {
     "data": {
      "text/plain": [
       "[['beep', 'boop', 'bar'], ['foo']]"
      ]
     },
     "execution_count": 15,
     "metadata": {},
     "output_type": "execute_result"
    }
   ],
   "source": [
    "bifurcate(['beep', 'boop', 'foo', 'bar'], [True, True, False, True]) # [ ['beep', 'boop', 'bar'], ['foo'] ]"
   ]
  },
  {
   "cell_type": "markdown",
   "metadata": {},
   "source": [
    "### byte_size\n",
    "\n",
    "Returns the length of a string in bytes.\n",
    "\n",
    "Use `s.encode('utf-8')` to encode the given string and return its length."
   ]
  },
  {
   "cell_type": "code",
   "execution_count": 16,
   "metadata": {},
   "outputs": [],
   "source": [
    "def byte_size(s):\n",
    "  return len(s.encode('utf-8'))"
   ]
  },
  {
   "cell_type": "code",
   "execution_count": 17,
   "metadata": {},
   "outputs": [
    {
     "data": {
      "text/plain": [
       "4"
      ]
     },
     "execution_count": 17,
     "metadata": {},
     "output_type": "execute_result"
    }
   ],
   "source": [
    "byte_size('😀') # 4"
   ]
  },
  {
   "cell_type": "code",
   "execution_count": 18,
   "metadata": {},
   "outputs": [
    {
     "data": {
      "text/plain": [
       "11"
      ]
     },
     "execution_count": 18,
     "metadata": {},
     "output_type": "execute_result"
    }
   ],
   "source": [
    "byte_size('Hello World') # 11"
   ]
  },
  {
   "cell_type": "markdown",
   "metadata": {},
   "source": [
    "### camel\n",
    "\n",
    "Converts a string to camelcase.\n",
    "\n",
    "Use `re.sub()` to replace any `-` or `_` with a space, using the regexp `r\"(_|-)+\"`.\n",
    "Use `title()` to capitalize the first letter of each word convert the rest to lowercase.\n",
    "Finally, use `replace()` to remove spaces between words."
   ]
  },
  {
   "cell_type": "code",
   "execution_count": 19,
   "metadata": {},
   "outputs": [],
   "source": [
    "from re import sub\n",
    "\n",
    "def camel(s):\n",
    "  s = sub(r\"(_|-)+\", \" \", s).title().replace(\" \", \"\")\n",
    "  return s[0].lower() + s[1:]"
   ]
  },
  {
   "cell_type": "code",
   "execution_count": 20,
   "metadata": {},
   "outputs": [
    {
     "data": {
      "text/plain": [
       "'someDatabaseFieldName'"
      ]
     },
     "execution_count": 20,
     "metadata": {},
     "output_type": "execute_result"
    }
   ],
   "source": [
    "camel('some_database_field_name') # 'someDatabaseFieldName'"
   ]
  },
  {
   "cell_type": "code",
   "execution_count": 21,
   "metadata": {},
   "outputs": [
    {
     "data": {
      "text/plain": [
       "'someLabelThatNeedsToBeCamelized'"
      ]
     },
     "execution_count": 21,
     "metadata": {},
     "output_type": "execute_result"
    }
   ],
   "source": [
    "camel('Some label that needs to be camelized') # 'someLabelThatNeedsToBeCamelized'"
   ]
  },
  {
   "cell_type": "code",
   "execution_count": 22,
   "metadata": {},
   "outputs": [
    {
     "data": {
      "text/plain": [
       "'someJavascriptProperty'"
      ]
     },
     "execution_count": 22,
     "metadata": {},
     "output_type": "execute_result"
    }
   ],
   "source": [
    "camel('some-javascript-property') # 'someJavascriptProperty'"
   ]
  },
  {
   "cell_type": "code",
   "execution_count": 23,
   "metadata": {},
   "outputs": [
    {
     "data": {
      "text/plain": [
       "'someMixedStringWithSpacesUnderscoresAndHyphens'"
      ]
     },
     "execution_count": 23,
     "metadata": {},
     "output_type": "execute_result"
    }
   ],
   "source": [
    "camel('some-mixed_string with spaces_underscores-and-hyphens') # 'someMixedStringWithSpacesUnderscoresAndHyphens'"
   ]
  },
  {
   "cell_type": "markdown",
   "metadata": {},
   "source": [
    "### capitalize_every_word\n",
    "\n",
    "Capitalizes the first letter of every word in a string.\n",
    "\n",
    "Use `s.title()` to capitalize first letter of every word in the string."
   ]
  },
  {
   "cell_type": "code",
   "execution_count": 24,
   "metadata": {},
   "outputs": [],
   "source": [
    "def capitalize_every_word(s):\n",
    "  return s.title()"
   ]
  },
  {
   "cell_type": "code",
   "execution_count": 25,
   "metadata": {},
   "outputs": [
    {
     "data": {
      "text/plain": [
       "'Hello World!'"
      ]
     },
     "execution_count": 25,
     "metadata": {},
     "output_type": "execute_result"
    }
   ],
   "source": [
    "capitalize_every_word('hello world!') # 'Hello World!'"
   ]
  },
  {
   "cell_type": "markdown",
   "metadata": {},
   "source": [
    "### capitalize\n",
    "\n",
    "Capitalizes the first letter of a string.\n",
    "\n",
    "Capitalize the first letter of the string and then add it with rest of the string.\n",
    "Omit the `lower_rest` parameter to keep the rest of the string intact, or set it to `True` to convert to lowercase."
   ]
  },
  {
   "cell_type": "code",
   "execution_count": 26,
   "metadata": {},
   "outputs": [],
   "source": [
    "def capitalize(s, lower_rest=False):\n",
    "  return s[:1].upper() + (s[1:].lower() if lower_rest else s[1:])"
   ]
  },
  {
   "cell_type": "code",
   "execution_count": 27,
   "metadata": {},
   "outputs": [
    {
     "data": {
      "text/plain": [
       "'FooBar'"
      ]
     },
     "execution_count": 27,
     "metadata": {},
     "output_type": "execute_result"
    }
   ],
   "source": [
    "capitalize('fooBar') # 'FooBar'"
   ]
  },
  {
   "cell_type": "code",
   "execution_count": 28,
   "metadata": {},
   "outputs": [
    {
     "data": {
      "text/plain": [
       "'Foobar'"
      ]
     },
     "execution_count": 28,
     "metadata": {},
     "output_type": "execute_result"
    }
   ],
   "source": [
    "capitalize('fooBar', True) # 'Foobar'"
   ]
  },
  {
   "cell_type": "markdown",
   "metadata": {},
   "source": [
    "### cast_list\n",
    "\n",
    "Casts the provided value as a list if it's not one.\n",
    "\n",
    "Use `isinstance()` to check if the given value is enumerable and return it by using `list()` or encapsulated in a list accordingly."
   ]
  },
  {
   "cell_type": "code",
   "execution_count": 29,
   "metadata": {},
   "outputs": [],
   "source": [
    "def cast_list(val):\n",
    "  return list(val) if isinstance(val, (tuple, list, set, dict)) else [val]"
   ]
  },
  {
   "cell_type": "code",
   "execution_count": 30,
   "metadata": {},
   "outputs": [
    {
     "data": {
      "text/plain": [
       "['foo']"
      ]
     },
     "execution_count": 30,
     "metadata": {},
     "output_type": "execute_result"
    }
   ],
   "source": [
    "cast_list('foo') # ['foo']"
   ]
  },
  {
   "cell_type": "code",
   "execution_count": 31,
   "metadata": {},
   "outputs": [
    {
     "data": {
      "text/plain": [
       "[1]"
      ]
     },
     "execution_count": 31,
     "metadata": {},
     "output_type": "execute_result"
    }
   ],
   "source": [
    "cast_list([1]) # [1]"
   ]
  },
  {
   "cell_type": "code",
   "execution_count": 32,
   "metadata": {},
   "outputs": [
    {
     "data": {
      "text/plain": [
       "['foo', 'bar']"
      ]
     },
     "execution_count": 32,
     "metadata": {},
     "output_type": "execute_result"
    }
   ],
   "source": [
    "cast_list(('foo', 'bar')) # ['foo', 'bar']"
   ]
  },
  {
   "cell_type": "markdown",
   "metadata": {},
   "source": [
    "### celsius_to_fahrenheit\n",
    "\n",
    "Converts Celsius to Fahrenheit.\n",
    "\n",
    "Use the formula `fahrenheit = (celsius * 1.8) + 32` to convert from Celsius to Fahrenheit."
   ]
  },
  {
   "cell_type": "code",
   "execution_count": 33,
   "metadata": {},
   "outputs": [],
   "source": [
    "def celsius_to_fahrenheit(celsius):\n",
    "  return ((celsius * 1.8) + 32)"
   ]
  },
  {
   "cell_type": "code",
   "execution_count": 34,
   "metadata": {},
   "outputs": [
    {
     "data": {
      "text/plain": [
       "356.0"
      ]
     },
     "execution_count": 34,
     "metadata": {},
     "output_type": "execute_result"
    }
   ],
   "source": [
    "celsius_to_fahrenheit(180) # 356.0"
   ]
  },
  {
   "cell_type": "markdown",
   "metadata": {},
   "source": [
    "### check_prop\n",
    "\n",
    "Given a predicate function, `fn`, and a `prop` string, this curried function will then take an object to inspect by calling the property and passing it to the predicate.\n",
    "\n",
    "Return a `lambda` function that takes an object and applies the predicate function, `fn` to the specified property."
   ]
  },
  {
   "cell_type": "code",
   "execution_count": 35,
   "metadata": {},
   "outputs": [],
   "source": [
    "def check_prop(fn, prop):\n",
    "  return lambda obj: fn(obj[prop])"
   ]
  },
  {
   "cell_type": "code",
   "execution_count": 36,
   "metadata": {},
   "outputs": [
    {
     "data": {
      "text/plain": [
       "True"
      ]
     },
     "execution_count": 36,
     "metadata": {},
     "output_type": "execute_result"
    }
   ],
   "source": [
    "check_age = check_prop(lambda x: x >= 18, 'age')\n",
    "user = {'name': 'Mark', 'age': 18}\n",
    "\n",
    "check_age(user) # True"
   ]
  },
  {
   "cell_type": "markdown",
   "metadata": {},
   "source": [
    "### chunk\n",
    "\n",
    "Chunks a list into smaller lists of a specified size.\n",
    "\n",
    "Use `list()` and `range()` to create a list of the desired `size`.\n",
    "Use `map()` on the list and fill it with splices of the given list.\n",
    "Finally, return the created list."
   ]
  },
  {
   "cell_type": "code",
   "execution_count": 37,
   "metadata": {},
   "outputs": [],
   "source": [
    "from math import ceil\n",
    "\n",
    "def chunk(lst, size):\n",
    "  return list(\n",
    "    map(lambda x: lst[x * size:x * size + size],\n",
    "      list(range(0, ceil(len(lst) / size)))))"
   ]
  },
  {
   "cell_type": "code",
   "execution_count": 38,
   "metadata": {},
   "outputs": [
    {
     "data": {
      "text/plain": [
       "[[1, 2], [3, 4], [5]]"
      ]
     },
     "execution_count": 38,
     "metadata": {},
     "output_type": "execute_result"
    }
   ],
   "source": [
    "chunk([1, 2, 3, 4, 5], 2) # [[1,2],[3,4],5]"
   ]
  },
  {
   "cell_type": "markdown",
   "metadata": {},
   "source": [
    "### clamp_number\n",
    "\n",
    "Clamps `num` within the inclusive range specified by the boundary values `a` and `b`.\n",
    "\n",
    "If `num` falls within the range, return `num`.\n",
    "Otherwise, return the nearest number in the range."
   ]
  },
  {
   "cell_type": "code",
   "execution_count": 39,
   "metadata": {},
   "outputs": [],
   "source": [
    "def clamp_number(num,a,b):\n",
    "  return max(min(num, max(a, b)), min(a, b))"
   ]
  },
  {
   "cell_type": "code",
   "execution_count": 40,
   "metadata": {},
   "outputs": [
    {
     "data": {
      "text/plain": [
       "3"
      ]
     },
     "execution_count": 40,
     "metadata": {},
     "output_type": "execute_result"
    }
   ],
   "source": [
    "clamp_number(2, 3, 5) # 3"
   ]
  },
  {
   "cell_type": "code",
   "execution_count": 41,
   "metadata": {},
   "outputs": [
    {
     "data": {
      "text/plain": [
       "-1"
      ]
     },
     "execution_count": 41,
     "metadata": {},
     "output_type": "execute_result"
    }
   ],
   "source": [
    "clamp_number(1, -1, -5) # -1"
   ]
  },
  {
   "cell_type": "markdown",
   "metadata": {},
   "source": [
    "### collect_dictionary\n",
    "\n",
    "Inverts a dictionary with non-unique hashable values.\n",
    "\n",
    "Use `dictionary.items()` in combination with a loop to map the values of the dictionary to keys using `dictionary.setdefault()`, `list()` and `append()` to create a list for each one."
   ]
  },
  {
   "cell_type": "code",
   "execution_count": 42,
   "metadata": {},
   "outputs": [],
   "source": [
    "def collect_dictionary(obj):\n",
    "  inv_obj = {}\n",
    "  for key, value in obj.items():\n",
    "    inv_obj.setdefault(value, list()).append(key)\n",
    "  return inv_obj"
   ]
  },
  {
   "cell_type": "code",
   "execution_count": 43,
   "metadata": {},
   "outputs": [
    {
     "data": {
      "text/plain": [
       "{10: ['Peter', 'Isabel'], 9: ['Anna']}"
      ]
     },
     "execution_count": 43,
     "metadata": {},
     "output_type": "execute_result"
    }
   ],
   "source": [
    "ages = {\n",
    "  \"Peter\": 10,\n",
    "  \"Isabel\": 10,\n",
    "  \"Anna\": 9,\n",
    "}\n",
    "collect_dictionary(ages) # { 10: [\"Peter\", \"Isabel\"], 9: [\"Anna\"] }"
   ]
  },
  {
   "cell_type": "markdown",
   "metadata": {},
   "source": [
    "### compact\n",
    "\n",
    "Removes falsey values from a list.\n",
    "\n",
    "Use `filter()` to filter out falsey values (`False`, `None`, `0`, and `\"\"`)."
   ]
  },
  {
   "cell_type": "code",
   "execution_count": 44,
   "metadata": {},
   "outputs": [],
   "source": [
    "def compact(lst):\n",
    "  return list(filter(None, lst))"
   ]
  },
  {
   "cell_type": "code",
   "execution_count": 45,
   "metadata": {},
   "outputs": [
    {
     "data": {
      "text/plain": [
       "[1, 2, 3, 'a', 's', 34]"
      ]
     },
     "execution_count": 45,
     "metadata": {},
     "output_type": "execute_result"
    }
   ],
   "source": [
    "compact([0, 1, False, 2, '', 3, 'a', 's', 34]) # [ 1, 2, 3, 'a', 's', 34 ]"
   ]
  },
  {
   "cell_type": "markdown",
   "metadata": {},
   "source": [
    "### compose\n",
    "\n",
    "Performs right-to-left function composition.\n",
    "\n",
    "Use `functools.reduce()` to perform right-to-left function composition. \n",
    "The last (rightmost) function can accept one or more arguments; the remaining functions must be unary."
   ]
  },
  {
   "cell_type": "code",
   "execution_count": 46,
   "metadata": {},
   "outputs": [],
   "source": [
    "from functools import reduce\n",
    "\n",
    "def compose(*fns):\n",
    "  return reduce(lambda f, g: lambda *args: f(g(*args)), fns)"
   ]
  },
  {
   "cell_type": "code",
   "execution_count": 47,
   "metadata": {},
   "outputs": [
    {
     "data": {
      "text/plain": [
       "15"
      ]
     },
     "execution_count": 47,
     "metadata": {},
     "output_type": "execute_result"
    }
   ],
   "source": [
    "add5 = lambda x: x + 5\n",
    "multiply = lambda x, y: x * y\n",
    "multiply_and_add_5 = compose(add5, multiply)\n",
    "\n",
    "multiply_and_add_5(5, 2) # 15"
   ]
  },
  {
   "cell_type": "markdown",
   "metadata": {},
   "source": [
    "### compose_right\n",
    "\n",
    "Performs left-to-right function composition.\n",
    "\n",
    "Use `functools.reduce()` to perform left-to-right function composition. \n",
    "The first (leftmost) function can accept one or more arguments; the remaining functions must be unary."
   ]
  },
  {
   "cell_type": "code",
   "execution_count": 48,
   "metadata": {},
   "outputs": [],
   "source": [
    "from functools import reduce\n",
    "\n",
    "def compose_right(*fns):\n",
    "  return reduce(lambda f, g: lambda *args: g(f(*args)), fns)"
   ]
  },
  {
   "cell_type": "code",
   "execution_count": 49,
   "metadata": {},
   "outputs": [
    {
     "data": {
      "text/plain": [
       "9"
      ]
     },
     "execution_count": 49,
     "metadata": {},
     "output_type": "execute_result"
    }
   ],
   "source": [
    "add = lambda x, y: x + y\n",
    "square = lambda x: x * x\n",
    "add_and_square = compose_right(add,square)\n",
    "\n",
    "add_and_square(1, 2) # 9"
   ]
  },
  {
   "cell_type": "markdown",
   "metadata": {},
   "source": [
    "### count_by\n",
    "\n",
    "Groups the elements of a list based on the given function and returns the count of elements in each group.\n",
    "\n",
    "Use `map()` to map the values of the given list using the given function.\n",
    "Iterate over the map and increase the element count each time it occurs."
   ]
  },
  {
   "cell_type": "code",
   "execution_count": 50,
   "metadata": {},
   "outputs": [],
   "source": [
    "def count_by(arr, fn=lambda x: x):\n",
    "  key = {}\n",
    "  for el in map(fn, arr):\n",
    "    key[el] = 1 if el not in key else key[el] + 1\n",
    "  return key"
   ]
  },
  {
   "cell_type": "code",
   "execution_count": 51,
   "metadata": {},
   "outputs": [
    {
     "data": {
      "text/plain": [
       "{6: 2, 4: 1}"
      ]
     },
     "execution_count": 51,
     "metadata": {},
     "output_type": "execute_result"
    }
   ],
   "source": [
    "from math import floor\n",
    "count_by([6.1, 4.2, 6.3], floor) # {6: 2, 4: 1}"
   ]
  },
  {
   "cell_type": "code",
   "execution_count": 52,
   "metadata": {},
   "outputs": [
    {
     "data": {
      "text/plain": [
       "{3: 2, 5: 1}"
      ]
     },
     "execution_count": 52,
     "metadata": {},
     "output_type": "execute_result"
    }
   ],
   "source": [
    "count_by(['one', 'two', 'three'], len) # {3: 2, 5: 1}"
   ]
  },
  {
   "cell_type": "markdown",
   "metadata": {},
   "source": [
    "### count_occurences\n",
    "\n",
    "Counts the occurrences of a value in a list.\n",
    "\n",
    "Increment a counter for every item in the list that has the given value and is of the same type."
   ]
  },
  {
   "cell_type": "code",
   "execution_count": 53,
   "metadata": {},
   "outputs": [],
   "source": [
    "def count_occurrences(lst, val):\n",
    "  return len([x for x in lst if x == val and type(x) == type(val)])"
   ]
  },
  {
   "cell_type": "code",
   "execution_count": 54,
   "metadata": {},
   "outputs": [
    {
     "data": {
      "text/plain": [
       "3"
      ]
     },
     "execution_count": 54,
     "metadata": {},
     "output_type": "execute_result"
    }
   ],
   "source": [
    "count_occurrences([1, 1, 2, 1, 2, 3], 1) # 3"
   ]
  },
  {
   "cell_type": "markdown",
   "metadata": {},
   "source": [
    "### curry\n",
    "\n",
    "Curries a function.\n",
    "\n",
    "Use `functools.partial()` to return a new partial object which behaves like `fn` with the given arguments, `args`, partially applied."
   ]
  },
  {
   "cell_type": "code",
   "execution_count": 55,
   "metadata": {},
   "outputs": [],
   "source": [
    "from functools import partial\n",
    "\n",
    "def curry(fn, *args):\n",
    "  return partial(fn,*args)"
   ]
  },
  {
   "cell_type": "code",
   "execution_count": 56,
   "metadata": {},
   "outputs": [
    {
     "data": {
      "text/plain": [
       "30"
      ]
     },
     "execution_count": 56,
     "metadata": {},
     "output_type": "execute_result"
    }
   ],
   "source": [
    "add = lambda x, y: x + y\n",
    "add10 = curry(add, 10)\n",
    "\n",
    "add10(20) # 30"
   ]
  },
  {
   "cell_type": "markdown",
   "metadata": {},
   "source": [
    "### decapitalize\n",
    "\n",
    "Decapitalizes the first letter of a string.\n",
    "\n",
    "Decapitalize the first letter of the string and then add it with rest of the string.\n",
    "Omit the `upper_rest` parameter to keep the rest of the string intact, or set it to `True` to convert to uppercase."
   ]
  },
  {
   "cell_type": "code",
   "execution_count": 57,
   "metadata": {},
   "outputs": [],
   "source": [
    "def decapitalize(s, upper_rest=False):\n",
    "  return s[:1].lower() + (s[1:].upper() if upper_rest else s[1:])"
   ]
  },
  {
   "cell_type": "code",
   "execution_count": 58,
   "metadata": {},
   "outputs": [
    {
     "data": {
      "text/plain": [
       "'fooBar'"
      ]
     },
     "execution_count": 58,
     "metadata": {},
     "output_type": "execute_result"
    }
   ],
   "source": [
    "decapitalize('FooBar') # 'fooBar'"
   ]
  },
  {
   "cell_type": "code",
   "execution_count": 59,
   "metadata": {},
   "outputs": [
    {
     "data": {
      "text/plain": [
       "'fOOBAR'"
      ]
     },
     "execution_count": 59,
     "metadata": {},
     "output_type": "execute_result"
    }
   ],
   "source": [
    "decapitalize('FooBar', True) # 'fOOBAR'"
   ]
  },
  {
   "cell_type": "markdown",
   "metadata": {},
   "source": [
    "### deep_flatten\n",
    "\n",
    "Deep flattens a list.\n",
    "\n",
    "Use recursion.\n",
    "Use `isinstance()` with `collections.abc.Iterable` to check if an element is iterable.\n",
    "If it is, apply `deep_flatten()` recursively, otherwise return `[lst]`."
   ]
  },
  {
   "cell_type": "code",
   "execution_count": 60,
   "metadata": {},
   "outputs": [],
   "source": [
    "from collections.abc import Iterable\n",
    "\n",
    "def deep_flatten(lst):\n",
    "  return [a for i in lst for a in deep_flatten(i)] if isinstance(lst, Iterable) else [lst]"
   ]
  },
  {
   "cell_type": "code",
   "execution_count": 61,
   "metadata": {},
   "outputs": [
    {
     "data": {
      "text/plain": [
       "[1, 2, 3, 4, 5]"
      ]
     },
     "execution_count": 61,
     "metadata": {},
     "output_type": "execute_result"
    }
   ],
   "source": [
    "deep_flatten([1, [2], [[3], 4], 5]) # [1,2,3,4,5]"
   ]
  },
  {
   "cell_type": "markdown",
   "metadata": {},
   "source": [
    "### degrees_to_rads\n",
    "\n",
    "Converts an angle from degrees to radians.\n",
    "\n",
    "Use `math.pi` and the degrees to radians formula to convert the angle from degrees to radians."
   ]
  },
  {
   "cell_type": "code",
   "execution_count": 62,
   "metadata": {},
   "outputs": [],
   "source": [
    "from math import pi\n",
    "\n",
    "def degrees_to_rads(deg):\n",
    "  return (deg * pi) / 180.0"
   ]
  },
  {
   "cell_type": "code",
   "execution_count": 63,
   "metadata": {},
   "outputs": [
    {
     "data": {
      "text/plain": [
       "3.141592653589793"
      ]
     },
     "execution_count": 63,
     "metadata": {},
     "output_type": "execute_result"
    }
   ],
   "source": [
    "degrees_to_rads(180) # 3.141592653589793"
   ]
  },
  {
   "cell_type": "markdown",
   "metadata": {},
   "source": [
    "### delay\n",
    "\n",
    "Invokes the provided function after `ms` milliseconds.\n",
    "\n",
    "Use `time.sleep()` to delay the execution of `fn` by `ms / 1000` seconds."
   ]
  },
  {
   "cell_type": "code",
   "execution_count": 64,
   "metadata": {},
   "outputs": [],
   "source": [
    "from time import sleep\n",
    "\n",
    "def delay(fn, ms, *args):\n",
    "  sleep(ms / 1000)\n",
    "  return fn(*args)"
   ]
  },
  {
   "cell_type": "code",
   "execution_count": 65,
   "metadata": {},
   "outputs": [
    {
     "name": "stdout",
     "output_type": "stream",
     "text": [
      "later\n"
     ]
    }
   ],
   "source": [
    "delay(\n",
    "  lambda x: print(x),\n",
    "  1000,\n",
    "  'later'\n",
    ") # prints 'later' after one second"
   ]
  },
  {
   "cell_type": "markdown",
   "metadata": {},
   "source": [
    "### difference_by\n",
    "\n",
    "Returns the difference between two lists, after applying the provided function to each list element of both.\n",
    "\n",
    "Create a `set` by applying `fn` to each element in `b`, then use list comprehension in combination with `fn` on `a` to only keep values not contained in the previously created set, `_b`."
   ]
  },
  {
   "cell_type": "code",
   "execution_count": 66,
   "metadata": {},
   "outputs": [],
   "source": [
    "def difference_by(a, b, fn):\n",
    "  _b = set(map(fn, b))\n",
    "  return [item for item in a if fn(item) not in _b]"
   ]
  },
  {
   "cell_type": "code",
   "execution_count": 67,
   "metadata": {},
   "outputs": [
    {
     "data": {
      "text/plain": [
       "[1.2]"
      ]
     },
     "execution_count": 67,
     "metadata": {},
     "output_type": "execute_result"
    }
   ],
   "source": [
    "from math import floor\n",
    "difference_by([2.1, 1.2], [2.3, 3.4], floor) # [1.2]"
   ]
  },
  {
   "cell_type": "code",
   "execution_count": 68,
   "metadata": {},
   "outputs": [
    {
     "data": {
      "text/plain": [
       "[{'x': 2}]"
      ]
     },
     "execution_count": 68,
     "metadata": {},
     "output_type": "execute_result"
    }
   ],
   "source": [
    "difference_by([{ 'x': 2 }, { 'x': 1 }], [{ 'x': 1 }], lambda v : v['x']) # [ { x: 2 } ]"
   ]
  },
  {
   "cell_type": "markdown",
   "metadata": {},
   "source": [
    "### difference\n",
    "\n",
    "Returns the difference between two iterables.\n",
    "\n",
    "Create a `set` from `b`, then use list comprehension on `a` to only keep values not contained in the previously created set, `_b`."
   ]
  },
  {
   "cell_type": "code",
   "execution_count": 69,
   "metadata": {},
   "outputs": [],
   "source": [
    "def difference(a, b):\n",
    "  _b = set(b)\n",
    "  return [item for item in a if item not in _b]"
   ]
  },
  {
   "cell_type": "code",
   "execution_count": 70,
   "metadata": {},
   "outputs": [
    {
     "data": {
      "text/plain": [
       "[3]"
      ]
     },
     "execution_count": 70,
     "metadata": {},
     "output_type": "execute_result"
    }
   ],
   "source": [
    "difference([1, 2, 3], [1, 2, 4]) # [3]"
   ]
  },
  {
   "cell_type": "markdown",
   "metadata": {},
   "source": [
    "### digitize\n",
    "\n",
    "Converts a number to a list of digits.\n",
    "\n",
    "Use `map()` combined with `int` on the string representation of `n` and return a list from the result."
   ]
  },
  {
   "cell_type": "code",
   "execution_count": 71,
   "metadata": {},
   "outputs": [],
   "source": [
    "def digitize(n):\n",
    "  return list(map(int, str(n)))"
   ]
  },
  {
   "cell_type": "code",
   "execution_count": 72,
   "metadata": {},
   "outputs": [
    {
     "data": {
      "text/plain": [
       "[1, 2, 3]"
      ]
     },
     "execution_count": 72,
     "metadata": {},
     "output_type": "execute_result"
    }
   ],
   "source": [
    "digitize(123) # [1, 2, 3]"
   ]
  },
  {
   "cell_type": "markdown",
   "metadata": {},
   "source": [
    "### drop\n",
    "\n",
    "Returns a list with `n` elements removed from the left.\n",
    "\n",
    "Use slice notation to remove the specified number of elements from the left."
   ]
  },
  {
   "cell_type": "code",
   "execution_count": 73,
   "metadata": {},
   "outputs": [],
   "source": [
    "def drop(a, n = 1):\n",
    "  return a[n:]"
   ]
  },
  {
   "cell_type": "code",
   "execution_count": 74,
   "metadata": {},
   "outputs": [
    {
     "data": {
      "text/plain": [
       "[2, 3]"
      ]
     },
     "execution_count": 74,
     "metadata": {},
     "output_type": "execute_result"
    }
   ],
   "source": [
    "drop([1, 2, 3]) # [2, 3]"
   ]
  },
  {
   "cell_type": "code",
   "execution_count": 75,
   "metadata": {},
   "outputs": [
    {
     "data": {
      "text/plain": [
       "[3]"
      ]
     },
     "execution_count": 75,
     "metadata": {},
     "output_type": "execute_result"
    }
   ],
   "source": [
    "drop([1, 2, 3], 2) # [3]"
   ]
  },
  {
   "cell_type": "code",
   "execution_count": 76,
   "metadata": {},
   "outputs": [
    {
     "data": {
      "text/plain": [
       "[]"
      ]
     },
     "execution_count": 76,
     "metadata": {},
     "output_type": "execute_result"
    }
   ],
   "source": [
    "drop([1, 2, 3], 42) # []"
   ]
  },
  {
   "cell_type": "markdown",
   "metadata": {},
   "source": [
    "### drop_right\n",
    "\n",
    "Returns a list with `n` elements removed from the right.\n",
    "\n",
    "Use slice notation to remove the specified number of elements from the right."
   ]
  },
  {
   "cell_type": "code",
   "execution_count": 77,
   "metadata": {},
   "outputs": [],
   "source": [
    "def drop_right(a, n = 1):\n",
    "  return a[:-n]"
   ]
  },
  {
   "cell_type": "code",
   "execution_count": 78,
   "metadata": {},
   "outputs": [
    {
     "data": {
      "text/plain": [
       "[1, 2]"
      ]
     },
     "execution_count": 78,
     "metadata": {},
     "output_type": "execute_result"
    }
   ],
   "source": [
    "drop_right([1, 2, 3]) # [1, 2]"
   ]
  },
  {
   "cell_type": "code",
   "execution_count": 79,
   "metadata": {},
   "outputs": [
    {
     "data": {
      "text/plain": [
       "[1]"
      ]
     },
     "execution_count": 79,
     "metadata": {},
     "output_type": "execute_result"
    }
   ],
   "source": [
    "drop_right([1, 2, 3], 2) # [1]"
   ]
  },
  {
   "cell_type": "code",
   "execution_count": 80,
   "metadata": {},
   "outputs": [
    {
     "data": {
      "text/plain": [
       "[]"
      ]
     },
     "execution_count": 80,
     "metadata": {},
     "output_type": "execute_result"
    }
   ],
   "source": [
    "drop_right([1, 2, 3], 42) # []"
   ]
  },
  {
   "cell_type": "markdown",
   "metadata": {},
   "source": [
    "### every\n",
    "\n",
    "Returns `True` if the provided function returns `True` for every element in the list, `False` otherwise.\n",
    "\n",
    "Use `all()` in combination with `map` and `fn` to check if `fn` returns `True` for all elements in the list."
   ]
  },
  {
   "cell_type": "code",
   "execution_count": 81,
   "metadata": {},
   "outputs": [],
   "source": [
    "def every(lst, fn=lambda x: x):\n",
    "  return all(map(fn, lst))"
   ]
  },
  {
   "cell_type": "code",
   "execution_count": 82,
   "metadata": {},
   "outputs": [
    {
     "data": {
      "text/plain": [
       "True"
      ]
     },
     "execution_count": 82,
     "metadata": {},
     "output_type": "execute_result"
    }
   ],
   "source": [
    "every([4, 2, 3], lambda x: x > 1) # True"
   ]
  },
  {
   "cell_type": "code",
   "execution_count": 83,
   "metadata": {},
   "outputs": [
    {
     "data": {
      "text/plain": [
       "True"
      ]
     },
     "execution_count": 83,
     "metadata": {},
     "output_type": "execute_result"
    }
   ],
   "source": [
    "every([1, 2, 3]) # True"
   ]
  },
  {
   "cell_type": "markdown",
   "metadata": {},
   "source": [
    "### every_nth\n",
    "\n",
    "Returns every nth element in a list.\n",
    "\n",
    "Use `[nth-1::nth]` to create a new list that contains every nth element of the given list."
   ]
  },
  {
   "cell_type": "code",
   "execution_count": 84,
   "metadata": {},
   "outputs": [],
   "source": [
    "def every_nth(lst, nth):\n",
    "  return lst[nth - 1::nth]"
   ]
  },
  {
   "cell_type": "code",
   "execution_count": 85,
   "metadata": {},
   "outputs": [
    {
     "data": {
      "text/plain": [
       "[2, 4, 6]"
      ]
     },
     "execution_count": 85,
     "metadata": {},
     "output_type": "execute_result"
    }
   ],
   "source": [
    "every_nth([1, 2, 3, 4, 5, 6], 2) # [ 2, 4, 6 ]"
   ]
  },
  {
   "cell_type": "markdown",
   "metadata": {},
   "source": [
    "### factorial\n",
    "\n",
    "Calculates the factorial of a number.\n",
    "\n",
    "Use recursion.\n",
    "If `num` is less than or equal to `1`, return `1`.\n",
    "Otherwise, return the product of `num` and the factorial of `num - 1`.\n",
    "Throws an exception if `num` is a negative or a floating point number."
   ]
  },
  {
   "cell_type": "code",
   "execution_count": 86,
   "metadata": {},
   "outputs": [],
   "source": [
    "def factorial(num):\n",
    "  if not ((num >= 0) and (num % 1 == 0)):\n",
    "    raise Exception(\"Number can't be floating point or negative.\")\n",
    "  return 1 if num == 0 else num * factorial(num - 1)"
   ]
  },
  {
   "cell_type": "code",
   "execution_count": 87,
   "metadata": {},
   "outputs": [
    {
     "data": {
      "text/plain": [
       "720"
      ]
     },
     "execution_count": 87,
     "metadata": {},
     "output_type": "execute_result"
    }
   ],
   "source": [
    "factorial(6) # 720"
   ]
  },
  {
   "cell_type": "markdown",
   "metadata": {},
   "source": [
    "### fahrenheit_to_celsius\n",
    "\n",
    "Converts Fahrenheit to Celsius.\n",
    "\n",
    "Use the formula `celsius = (fahrenheit - 32) / 1.8` to convert from Fahrenheit to Celsius."
   ]
  },
  {
   "cell_type": "code",
   "execution_count": 88,
   "metadata": {},
   "outputs": [],
   "source": [
    "def fahrenheit_to_celsius(fahrenheit):\n",
    "  return ((fahrenheit - 32) / 1.8)"
   ]
  },
  {
   "cell_type": "code",
   "execution_count": 89,
   "metadata": {},
   "outputs": [
    {
     "data": {
      "text/plain": [
       "25.0"
      ]
     },
     "execution_count": 89,
     "metadata": {},
     "output_type": "execute_result"
    }
   ],
   "source": [
    "fahrenheit_to_celsius(77) # 25.0"
   ]
  },
  {
   "cell_type": "markdown",
   "metadata": {},
   "source": [
    "### fibonacci\n",
    "\n",
    "\n",
    "Generates a list, containing the Fibonacci sequence, up until the nth term.\n",
    "\n",
    "Starting with `0` and `1`, use `list.append()` to add the sum of the last two numbers of the list to the end of the list, until the length of the list reaches `n`.  \n",
    "If `n` is less or equal to `0`, return a list containing `0`."
   ]
  },
  {
   "cell_type": "code",
   "execution_count": 90,
   "metadata": {},
   "outputs": [],
   "source": [
    "def fibonacci(n):\n",
    "  if n <= 0:\n",
    "    return [0]\n",
    "\n",
    "  sequence = [0, 1]\n",
    "  while len(sequence) <= n:\n",
    "    next_value = sequence[len(sequence) - 1] + sequence[len(sequence) - 2]\n",
    "    sequence.append(next_value)\n",
    "\n",
    "  return sequence"
   ]
  },
  {
   "cell_type": "code",
   "execution_count": 91,
   "metadata": {},
   "outputs": [
    {
     "data": {
      "text/plain": [
       "[0, 1, 1, 2, 3, 5, 8, 13]"
      ]
     },
     "execution_count": 91,
     "metadata": {},
     "output_type": "execute_result"
    }
   ],
   "source": [
    "fibonacci(7) # [0, 1, 1, 2, 3, 5, 8, 13]"
   ]
  },
  {
   "cell_type": "markdown",
   "metadata": {},
   "source": [
    "### filter_non_unique\n",
    "\n",
    "Filters out the non-unique values in a list.\n",
    "\n",
    "Use a `collections.Counter` to get the count of each value in the list.\n",
    "Use list comprehension to create a list containing only the unique values."
   ]
  },
  {
   "cell_type": "code",
   "execution_count": 92,
   "metadata": {},
   "outputs": [
    {
     "ename": "SyntaxError",
     "evalue": "invalid syntax (<ipython-input-92-473ee47bfcc5>, line 4)",
     "output_type": "error",
     "traceback": [
      "\u001b[0;36m  File \u001b[0;32m\"<ipython-input-92-473ee47bfcc5>\"\u001b[0;36m, line \u001b[0;32m4\u001b[0m\n\u001b[0;31m    return [item for item, count in counter = Counter(lst).items() if count == 1]\u001b[0m\n\u001b[0m                                            ^\u001b[0m\n\u001b[0;31mSyntaxError\u001b[0m\u001b[0;31m:\u001b[0m invalid syntax\n"
     ]
    }
   ],
   "source": [
    "from collections import Counter\n",
    "\n",
    "def filter_non_unique(lst):\n",
    "  return [item for item, count in counter = Counter(lst).items() if count == 1]"
   ]
  },
  {
   "cell_type": "code",
   "execution_count": 93,
   "metadata": {},
   "outputs": [
    {
     "ename": "NameError",
     "evalue": "name 'filter_non_unique' is not defined",
     "output_type": "error",
     "traceback": [
      "\u001b[0;31m---------------------------------------------------------------------------\u001b[0m",
      "\u001b[0;31mNameError\u001b[0m                                 Traceback (most recent call last)",
      "\u001b[0;32m<ipython-input-93-f3a9954efa1e>\u001b[0m in \u001b[0;36m<module>\u001b[0;34m\u001b[0m\n\u001b[0;32m----> 1\u001b[0;31m \u001b[0mfilter_non_unique\u001b[0m\u001b[0;34m(\u001b[0m\u001b[0;34m[\u001b[0m\u001b[0;36m1\u001b[0m\u001b[0;34m,\u001b[0m \u001b[0;36m2\u001b[0m\u001b[0;34m,\u001b[0m \u001b[0;36m2\u001b[0m\u001b[0;34m,\u001b[0m \u001b[0;36m3\u001b[0m\u001b[0;34m,\u001b[0m \u001b[0;36m4\u001b[0m\u001b[0;34m,\u001b[0m \u001b[0;36m4\u001b[0m\u001b[0;34m,\u001b[0m \u001b[0;36m5\u001b[0m\u001b[0;34m]\u001b[0m\u001b[0;34m)\u001b[0m \u001b[0;31m# [1, 3, 5]\u001b[0m\u001b[0;34m\u001b[0m\u001b[0;34m\u001b[0m\u001b[0m\n\u001b[0m",
      "\u001b[0;31mNameError\u001b[0m: name 'filter_non_unique' is not defined"
     ]
    }
   ],
   "source": [
    "filter_non_unique([1, 2, 2, 3, 4, 4, 5]) # [1, 3, 5]"
   ]
  },
  {
   "cell_type": "markdown",
   "metadata": {},
   "source": [
    "### filter_unique\n",
    "\n",
    "Filters out the unique values in a list.\n",
    "\n",
    "Use a `collections.Counter` to get the count of each value in the list.\n",
    "Use list comprehension to create a list containing only the non-unique values."
   ]
  },
  {
   "cell_type": "code",
   "execution_count": 94,
   "metadata": {},
   "outputs": [],
   "source": [
    "from collections import Counter\n",
    "\n",
    "def filter_unique(lst):\n",
    "  return [item for item, count in Counter(lst).items() if count > 1]"
   ]
  },
  {
   "cell_type": "code",
   "execution_count": 95,
   "metadata": {},
   "outputs": [
    {
     "data": {
      "text/plain": [
       "[2, 4]"
      ]
     },
     "execution_count": 95,
     "metadata": {},
     "output_type": "execute_result"
    }
   ],
   "source": [
    "filter_unique([1, 2, 2, 3, 4, 4, 5]) # [2, 4]"
   ]
  },
  {
   "cell_type": "markdown",
   "metadata": {},
   "source": [
    "### find_index\n",
    "\n",
    "Returns the index of the first element in the provided list that satisfies the provided testing function.\n",
    "\n",
    "Use list comprehension, `enumerate()` and `next()` to return the index of the first element in `lst` for which `fn` returns `True`."
   ]
  },
  {
   "cell_type": "code",
   "execution_count": 96,
   "metadata": {},
   "outputs": [],
   "source": [
    "def find_index(lst, fn):\n",
    "  return next(i for i, x in enumerate(lst) if fn(x))"
   ]
  },
  {
   "cell_type": "code",
   "execution_count": 97,
   "metadata": {},
   "outputs": [
    {
     "data": {
      "text/plain": [
       "0"
      ]
     },
     "execution_count": 97,
     "metadata": {},
     "output_type": "execute_result"
    }
   ],
   "source": [
    "find_index([1, 2, 3, 4], lambda n: n % 2 == 1) # 0"
   ]
  },
  {
   "cell_type": "markdown",
   "metadata": {},
   "source": [
    "### find_key\n",
    "\n",
    "Returns the first key in the provided dictionary that has the given value.\n",
    "\n",
    "Use `dictionary.items()` and `next()` to return the first key that has a value equal to `val`."
   ]
  },
  {
   "cell_type": "code",
   "execution_count": 98,
   "metadata": {},
   "outputs": [],
   "source": [
    "def find_key(dict, val):\n",
    "  return next(key for key, value in dict.items() if value == val)"
   ]
  },
  {
   "cell_type": "code",
   "execution_count": 99,
   "metadata": {},
   "outputs": [
    {
     "data": {
      "text/plain": [
       "'Isabel'"
      ]
     },
     "execution_count": 99,
     "metadata": {},
     "output_type": "execute_result"
    }
   ],
   "source": [
    "ages = {\n",
    "  \"Peter\": 10,\n",
    "  \"Isabel\": 11,\n",
    "  \"Anna\": 9,\n",
    "}\n",
    "find_key(ages, 11) # \"Isabel\""
   ]
  },
  {
   "cell_type": "markdown",
   "metadata": {},
   "source": [
    "### find_keys\n",
    "\n",
    "Returns all keys in the provided dictionary that have the given value.\n",
    "\n",
    "Use `dictionary.items()`, a generator and `list()` to return all keys that have a value equal to `val`."
   ]
  },
  {
   "cell_type": "code",
   "execution_count": 100,
   "metadata": {},
   "outputs": [],
   "source": [
    "def find_keys(dict, val):\n",
    "  return list(key for key, value in dict.items() if value == val)"
   ]
  },
  {
   "cell_type": "code",
   "execution_count": 101,
   "metadata": {},
   "outputs": [
    {
     "data": {
      "text/plain": [
       "['Peter', 'Anna']"
      ]
     },
     "execution_count": 101,
     "metadata": {},
     "output_type": "execute_result"
    }
   ],
   "source": [
    "ages = {\n",
    "  \"Peter\": 10,\n",
    "  \"Isabel\": 11,\n",
    "  \"Anna\": 10,\n",
    "}\n",
    "find_keys(ages, 10) # [ \"Peter\", \"Anna\" ]"
   ]
  },
  {
   "cell_type": "markdown",
   "metadata": {},
   "source": [
    "### find_last_index\n",
    "\n",
    "Returns the index of the last element in the provided list that satisfies the provided testing function.\n",
    "\n",
    "Use list comprehension, `enumerate()` and `next()` to return the index of the last element in `lst` for which `fn` returns `True`."
   ]
  },
  {
   "cell_type": "code",
   "execution_count": 102,
   "metadata": {},
   "outputs": [],
   "source": [
    "def find_last_index(lst, fn):\n",
    "  return len(lst) - 1 - next(i for i, x in enumerate(lst[::-1]) if fn(x))"
   ]
  },
  {
   "cell_type": "code",
   "execution_count": 103,
   "metadata": {},
   "outputs": [
    {
     "data": {
      "text/plain": [
       "2"
      ]
     },
     "execution_count": 103,
     "metadata": {},
     "output_type": "execute_result"
    }
   ],
   "source": [
    "find_last_index([1, 2, 3, 4], lambda n: n % 2 == 1) # 2"
   ]
  },
  {
   "cell_type": "markdown",
   "metadata": {},
   "source": [
    "### find_last\n",
    "\n",
    "Returns the value of the last element in the provided list that satisfies the provided testing function.\n",
    "\n",
    "Use list comprehension and `next()` to return the last element in `lst` for which `fn` returns `True`."
   ]
  },
  {
   "cell_type": "code",
   "execution_count": 104,
   "metadata": {},
   "outputs": [],
   "source": [
    "def find_last(lst, fn):\n",
    "  return next(x for x in lst[::-1] if fn(x))"
   ]
  },
  {
   "cell_type": "code",
   "execution_count": 105,
   "metadata": {},
   "outputs": [
    {
     "data": {
      "text/plain": [
       "3"
      ]
     },
     "execution_count": 105,
     "metadata": {},
     "output_type": "execute_result"
    }
   ],
   "source": [
    "find_last([1, 2, 3, 4], lambda n: n % 2 == 1) # 3"
   ]
  },
  {
   "cell_type": "markdown",
   "metadata": {},
   "source": [
    "### find\n",
    "\n",
    "Returns the value of the first element in the provided list that satisfies the provided testing function.\n",
    "\n",
    "Use list comprehension and `next()` to return the first element in `lst` for which `fn` returns `True`."
   ]
  },
  {
   "cell_type": "code",
   "execution_count": 106,
   "metadata": {},
   "outputs": [],
   "source": [
    "def find(lst, fn):\n",
    "  return next(x for x in lst if fn(x))"
   ]
  },
  {
   "cell_type": "code",
   "execution_count": 107,
   "metadata": {},
   "outputs": [
    {
     "data": {
      "text/plain": [
       "1"
      ]
     },
     "execution_count": 107,
     "metadata": {},
     "output_type": "execute_result"
    }
   ],
   "source": [
    "find([1, 2, 3, 4], lambda n: n % 2 == 1) # 1"
   ]
  },
  {
   "cell_type": "markdown",
   "metadata": {},
   "source": [
    "### find_parity_outliers\n",
    "\n",
    "Given a list, returns the items that are parity outliers.\n",
    "\n",
    "Use `collections.Counter` with a list comprehension to count even and odd values in the list, use `collections.Counter.most_common()` to get the most common parity.\n",
    "Use a list comprehension to find all elements that do not match the most common parity."
   ]
  },
  {
   "cell_type": "code",
   "execution_count": 108,
   "metadata": {},
   "outputs": [],
   "source": [
    "from collections import Counter\n",
    "\n",
    "def find_parity_outliers(nums):\n",
    "  return [\n",
    "    x for x in nums\n",
    "    if x % 2 != Counter([n % 2 for n in nums]).most_common()[0][0]\n",
    "  ]"
   ]
  },
  {
   "cell_type": "code",
   "execution_count": 109,
   "metadata": {},
   "outputs": [
    {
     "data": {
      "text/plain": [
       "[1, 3]"
      ]
     },
     "execution_count": 109,
     "metadata": {},
     "output_type": "execute_result"
    }
   ],
   "source": [
    "find_parity_outliers([1, 2, 3, 4, 6]) # [1, 3]"
   ]
  },
  {
   "cell_type": "markdown",
   "metadata": {},
   "source": [
    "### flatten\n",
    "\n",
    "Flattens a list of lists once.\n",
    "\n",
    "Use nested list comprehension to extract each value from sub-lists in order."
   ]
  },
  {
   "cell_type": "code",
   "execution_count": 110,
   "metadata": {},
   "outputs": [],
   "source": [
    "def flatten(lst):\n",
    "  return [x for y in lst for x in y]"
   ]
  },
  {
   "cell_type": "code",
   "execution_count": 111,
   "metadata": {},
   "outputs": [
    {
     "data": {
      "text/plain": [
       "[1, 2, 3, 4, 5, 6, 7, 8]"
      ]
     },
     "execution_count": 111,
     "metadata": {},
     "output_type": "execute_result"
    }
   ],
   "source": [
    "flatten([[1,2,3,4],[5,6,7,8]]) # [1, 2, 3, 4, 5, 6, 7, 8]"
   ]
  },
  {
   "cell_type": "markdown",
   "metadata": {},
   "source": [
    "### for_each\n",
    "\n",
    "Executes the provided function once for each list element.\n",
    "\n",
    "Use a `for` loop to execute `fn` for each element in `itr`."
   ]
  },
  {
   "cell_type": "code",
   "execution_count": 112,
   "metadata": {},
   "outputs": [],
   "source": [
    "def for_each(itr, fn):\n",
    "  for el in itr:\n",
    "    fn(el)"
   ]
  },
  {
   "cell_type": "code",
   "execution_count": 113,
   "metadata": {},
   "outputs": [
    {
     "name": "stdout",
     "output_type": "stream",
     "text": [
      "1\n",
      "2\n",
      "3\n"
     ]
    }
   ],
   "source": [
    "for_each([1, 2, 3], print) # 1 2 3"
   ]
  },
  {
   "cell_type": "markdown",
   "metadata": {},
   "source": [
    "### for_each_right\n",
    "\n",
    "Executes the provided function once for each list element, starting from the list's last element.\n",
    "\n",
    "Use a `for` loop in combination with slice notation to execute `fn` for each element in `itr`, starting from the last one."
   ]
  },
  {
   "cell_type": "code",
   "execution_count": 114,
   "metadata": {},
   "outputs": [],
   "source": [
    "def for_each_right(itr, fn):\n",
    "  for el in itr[::-1]:\n",
    "    fn(el)"
   ]
  },
  {
   "cell_type": "code",
   "execution_count": 115,
   "metadata": {},
   "outputs": [
    {
     "name": "stdout",
     "output_type": "stream",
     "text": [
      "3\n",
      "2\n",
      "1\n"
     ]
    }
   ],
   "source": [
    "for_each_right([1, 2, 3], print) # 3 2 1"
   ]
  },
  {
   "cell_type": "markdown",
   "metadata": {},
   "source": [
    "### frequencies\n",
    "\n",
    "Returns a dictionary with the unique values of a list as keys and their frequencies as the values.\n",
    "\n",
    "Use a `for` loop to populate a dictionary, `f`, with the unique values in `lst` as keys, adding to existing keys every time the same value is encountered."
   ]
  },
  {
   "cell_type": "code",
   "execution_count": 116,
   "metadata": {},
   "outputs": [],
   "source": [
    "from functools import reduce\n",
    "\n",
    "def frequencies(lst):\n",
    "  f = {}\n",
    "  for x in lst:\n",
    "    f[x] = f[x] + 1 if x in f else 1\n",
    "  return f"
   ]
  },
  {
   "cell_type": "code",
   "execution_count": 117,
   "metadata": {},
   "outputs": [
    {
     "data": {
      "text/plain": [
       "{'a': 4, 'b': 2, 'c': 1}"
      ]
     },
     "execution_count": 117,
     "metadata": {},
     "output_type": "execute_result"
    }
   ],
   "source": [
    "frequencies(['a', 'b', 'a', 'c', 'a', 'a', 'b']) # { 'a': 4, 'b': 2, 'c': 1 }"
   ]
  },
  {
   "cell_type": "markdown",
   "metadata": {},
   "source": [
    "### gcd\n",
    "\n",
    "Calculates the greatest common divisor of a list of numbers.\n",
    "\n",
    "Use `functools.reduce()` and `math.gcd()` over the given list."
   ]
  },
  {
   "cell_type": "code",
   "execution_count": 118,
   "metadata": {},
   "outputs": [],
   "source": [
    "from functools import reduce\n",
    "from math import gcd\n",
    "\n",
    "def gcd(numbers):\n",
    "  return reduce(gcd, numbers)"
   ]
  },
  {
   "cell_type": "code",
   "execution_count": 119,
   "metadata": {},
   "outputs": [
    {
     "ename": "TypeError",
     "evalue": "gcd() takes 1 positional argument but 2 were given",
     "output_type": "error",
     "traceback": [
      "\u001b[0;31m---------------------------------------------------------------------------\u001b[0m",
      "\u001b[0;31mTypeError\u001b[0m                                 Traceback (most recent call last)",
      "\u001b[0;32m<ipython-input-119-aef2ef1b6d5e>\u001b[0m in \u001b[0;36m<module>\u001b[0;34m\u001b[0m\n\u001b[0;32m----> 1\u001b[0;31m \u001b[0mgcd\u001b[0m\u001b[0;34m(\u001b[0m\u001b[0;34m[\u001b[0m\u001b[0;36m8\u001b[0m\u001b[0;34m,\u001b[0m \u001b[0;36m36\u001b[0m\u001b[0;34m,\u001b[0m \u001b[0;36m28\u001b[0m\u001b[0;34m]\u001b[0m\u001b[0;34m)\u001b[0m \u001b[0;31m# 4\u001b[0m\u001b[0;34m\u001b[0m\u001b[0;34m\u001b[0m\u001b[0m\n\u001b[0m",
      "\u001b[0;32m<ipython-input-118-14f2cd613fe2>\u001b[0m in \u001b[0;36mgcd\u001b[0;34m(numbers)\u001b[0m\n\u001b[1;32m      3\u001b[0m \u001b[0;34m\u001b[0m\u001b[0m\n\u001b[1;32m      4\u001b[0m \u001b[0;32mdef\u001b[0m \u001b[0mgcd\u001b[0m\u001b[0;34m(\u001b[0m\u001b[0mnumbers\u001b[0m\u001b[0;34m)\u001b[0m\u001b[0;34m:\u001b[0m\u001b[0;34m\u001b[0m\u001b[0;34m\u001b[0m\u001b[0m\n\u001b[0;32m----> 5\u001b[0;31m   \u001b[0;32mreturn\u001b[0m \u001b[0mreduce\u001b[0m\u001b[0;34m(\u001b[0m\u001b[0mgcd\u001b[0m\u001b[0;34m,\u001b[0m \u001b[0mnumbers\u001b[0m\u001b[0;34m)\u001b[0m\u001b[0;34m\u001b[0m\u001b[0;34m\u001b[0m\u001b[0m\n\u001b[0m",
      "\u001b[0;31mTypeError\u001b[0m: gcd() takes 1 positional argument but 2 were given"
     ]
    }
   ],
   "source": [
    "gcd([8, 36, 28]) # 4"
   ]
  },
  {
   "cell_type": "markdown",
   "metadata": {},
   "source": [
    "### group_by\n",
    "\n",
    "Groups the elements of a list based on the given function.\n",
    "\n",
    "Use `map()` and `fn` to map the values of the list to the keys of a dictionary.\n",
    "Use list comprehension to map each element to the appropriate `key`."
   ]
  },
  {
   "cell_type": "code",
   "execution_count": 120,
   "metadata": {},
   "outputs": [],
   "source": [
    "def group_by(lst, fn):\n",
    "  return {key : [el for el in lst if fn(el) == key] for key in map(fn, lst)}"
   ]
  },
  {
   "cell_type": "code",
   "execution_count": 121,
   "metadata": {},
   "outputs": [
    {
     "data": {
      "text/plain": [
       "{6: [6.1, 6.3], 4: [4.2]}"
      ]
     },
     "execution_count": 121,
     "metadata": {},
     "output_type": "execute_result"
    }
   ],
   "source": [
    "from math import floor\n",
    "group_by([6.1, 4.2, 6.3], floor) # {4: [4.2], 6: [6.1, 6.3]}"
   ]
  },
  {
   "cell_type": "code",
   "execution_count": 122,
   "metadata": {},
   "outputs": [
    {
     "data": {
      "text/plain": [
       "{3: ['one', 'two'], 5: ['three']}"
      ]
     },
     "execution_count": 122,
     "metadata": {},
     "output_type": "execute_result"
    }
   ],
   "source": [
    "group_by(['one', 'two', 'three'], len) # {3: ['one', 'two'], 5: ['three']}"
   ]
  },
  {
   "cell_type": "markdown",
   "metadata": {},
   "source": [
    "### has_duplicates\n",
    "\n",
    "Returns `True` if there are duplicate values in a flat list, `False` otherwise.\n",
    "\n",
    "Use `set()` on the given list to remove duplicates, compare its length with the length of the list."
   ]
  },
  {
   "cell_type": "code",
   "execution_count": 123,
   "metadata": {},
   "outputs": [],
   "source": [
    "def has_duplicates(lst):\n",
    "  return len(lst) != len(set(lst))"
   ]
  },
  {
   "cell_type": "code",
   "execution_count": 124,
   "metadata": {},
   "outputs": [
    {
     "data": {
      "text/plain": [
       "True"
      ]
     },
     "execution_count": 124,
     "metadata": {},
     "output_type": "execute_result"
    }
   ],
   "source": [
    "x = [1, 2, 3, 4, 5, 5]\n",
    "has_duplicates(x) # True"
   ]
  },
  {
   "cell_type": "code",
   "execution_count": 125,
   "metadata": {},
   "outputs": [
    {
     "data": {
      "text/plain": [
       "False"
      ]
     },
     "execution_count": 125,
     "metadata": {},
     "output_type": "execute_result"
    }
   ],
   "source": [
    "y = [1, 2, 3, 4, 5]\n",
    "has_duplicates(y) # False"
   ]
  },
  {
   "cell_type": "markdown",
   "metadata": {},
   "source": [
    "### have_same_contents\n",
    "\n",
    "Returns `True` if two lists contain the same elements regardless of order, `False` otherwise.\n",
    "\n",
    "Use `set()` on the combination of both lists to find the unique values.\n",
    "Iterate over them with a `for` loop comparing the `count()` of each unique value in each list.\n",
    "Return `False` if the counts do not match for any element, `True` otherwise."
   ]
  },
  {
   "cell_type": "code",
   "execution_count": 126,
   "metadata": {},
   "outputs": [],
   "source": [
    "def have_same_contents(a, b):\n",
    "  for v in set(a + b):\n",
    "    if a.count(v) != b.count(v):\n",
    "      return False\n",
    "  return True"
   ]
  },
  {
   "cell_type": "code",
   "execution_count": 127,
   "metadata": {},
   "outputs": [
    {
     "data": {
      "text/plain": [
       "True"
      ]
     },
     "execution_count": 127,
     "metadata": {},
     "output_type": "execute_result"
    }
   ],
   "source": [
    "have_same_contents([1, 2, 4], [2, 4, 1]) # True"
   ]
  },
  {
   "cell_type": "markdown",
   "metadata": {},
   "source": [
    "### head\n",
    "\n",
    "Returns the head of a list.\n",
    "\n",
    "Use `lst[0]` to return the first element of the passed list."
   ]
  },
  {
   "cell_type": "code",
   "execution_count": 128,
   "metadata": {},
   "outputs": [],
   "source": [
    "def head(lst):\n",
    "  return lst[0]"
   ]
  },
  {
   "cell_type": "code",
   "execution_count": 129,
   "metadata": {},
   "outputs": [
    {
     "data": {
      "text/plain": [
       "1"
      ]
     },
     "execution_count": 129,
     "metadata": {},
     "output_type": "execute_result"
    }
   ],
   "source": [
    "head([1, 2, 3]) # 1"
   ]
  },
  {
   "cell_type": "markdown",
   "metadata": {},
   "source": [
    "### includes_all\n",
    "\n",
    "Returns `True` if all the elements in `values` are included in `lst`, `False` otherwise.\n",
    "\n",
    "Check if every value in `values` is contained in `lst` using a `for` loop, returning `False` if any one value is not found, `True` otherwise."
   ]
  },
  {
   "cell_type": "code",
   "execution_count": 130,
   "metadata": {},
   "outputs": [],
   "source": [
    "def includes_all(lst, values):\n",
    "  for v in values:\n",
    "    if v not in lst:\n",
    "      return False\n",
    "  return True"
   ]
  },
  {
   "cell_type": "code",
   "execution_count": 131,
   "metadata": {},
   "outputs": [
    {
     "data": {
      "text/plain": [
       "True"
      ]
     },
     "execution_count": 131,
     "metadata": {},
     "output_type": "execute_result"
    }
   ],
   "source": [
    "includes_all([1, 2, 3, 4], [1, 4]) # True"
   ]
  },
  {
   "cell_type": "code",
   "execution_count": 132,
   "metadata": {},
   "outputs": [
    {
     "data": {
      "text/plain": [
       "False"
      ]
     },
     "execution_count": 132,
     "metadata": {},
     "output_type": "execute_result"
    }
   ],
   "source": [
    "includes_all([1, 2, 3, 4], [1, 5]) # False"
   ]
  },
  {
   "cell_type": "markdown",
   "metadata": {},
   "source": [
    "### includes_any\n",
    "\n",
    "Returns `True` if any element in `values` is included in `lst`, `False` otherwise.\n",
    "\n",
    "Check if any value in `values` is contained in `lst` using a `for` loop, returning `True` if any one value is found, `False` otherwise."
   ]
  },
  {
   "cell_type": "code",
   "execution_count": 133,
   "metadata": {},
   "outputs": [],
   "source": [
    "def includes_any(lst, values):\n",
    "  for v in values:\n",
    "    if v in lst:\n",
    "      return True\n",
    "  return False"
   ]
  },
  {
   "cell_type": "code",
   "execution_count": 134,
   "metadata": {},
   "outputs": [
    {
     "data": {
      "text/plain": [
       "True"
      ]
     },
     "execution_count": 134,
     "metadata": {},
     "output_type": "execute_result"
    }
   ],
   "source": [
    "includes_any([1, 2, 3, 4], [2, 9]) # True"
   ]
  },
  {
   "cell_type": "code",
   "execution_count": 135,
   "metadata": {},
   "outputs": [
    {
     "data": {
      "text/plain": [
       "False"
      ]
     },
     "execution_count": 135,
     "metadata": {},
     "output_type": "execute_result"
    }
   ],
   "source": [
    "includes_any([1, 2, 3, 4], [8, 9]) # False"
   ]
  },
  {
   "cell_type": "markdown",
   "metadata": {},
   "source": [
    "### initialize_2d_list\n",
    "\n",
    "Initializes a 2D list of given width and height and value.\n",
    "\n",
    "Use list comprehension and `range()` to generate `h` rows where each is a list with length `h`, initialized with `val`.\n",
    "If `val` is not provided, default to `None`."
   ]
  },
  {
   "cell_type": "code",
   "execution_count": 136,
   "metadata": {},
   "outputs": [],
   "source": [
    "def initialize_2d_list(w,h, val = None):\n",
    "  return [[val for x in range(w)] for y in range(h)]"
   ]
  },
  {
   "cell_type": "code",
   "execution_count": 137,
   "metadata": {},
   "outputs": [
    {
     "data": {
      "text/plain": [
       "[[0, 0], [0, 0]]"
      ]
     },
     "execution_count": 137,
     "metadata": {},
     "output_type": "execute_result"
    }
   ],
   "source": [
    "initialize_2d_list(2, 2, 0) # [[0,0], [0,0]]"
   ]
  },
  {
   "cell_type": "markdown",
   "metadata": {},
   "source": [
    "### initialize_list_with_range\n",
    "\n",
    "Initializes a list containing the numbers in the specified range where `start` and `end` are inclusive with their common difference `step`.\n",
    "\n",
    "Use `list` and `range()` to generate a list of the appropriate length, filled with the desired values in the given range.\n",
    "Omit `start` to use the default value of `0`.\n",
    "Omit `step` to use the default value of `1`."
   ]
  },
  {
   "cell_type": "code",
   "execution_count": 138,
   "metadata": {},
   "outputs": [],
   "source": [
    "def initialize_list_with_range(end, start=0, step=1):\n",
    "  return list(range(start, end + 1, step))"
   ]
  },
  {
   "cell_type": "code",
   "execution_count": 139,
   "metadata": {},
   "outputs": [
    {
     "data": {
      "text/plain": [
       "[0, 1, 2, 3, 4, 5]"
      ]
     },
     "execution_count": 139,
     "metadata": {},
     "output_type": "execute_result"
    }
   ],
   "source": [
    "initialize_list_with_range(5) # [0, 1, 2, 3, 4, 5]"
   ]
  },
  {
   "cell_type": "code",
   "execution_count": 140,
   "metadata": {},
   "outputs": [
    {
     "data": {
      "text/plain": [
       "[3, 4, 5, 6, 7]"
      ]
     },
     "execution_count": 140,
     "metadata": {},
     "output_type": "execute_result"
    }
   ],
   "source": [
    "initialize_list_with_range(7, 3) # [3, 4, 5, 6, 7]"
   ]
  },
  {
   "cell_type": "code",
   "execution_count": 141,
   "metadata": {},
   "outputs": [
    {
     "data": {
      "text/plain": [
       "[0, 2, 4, 6, 8]"
      ]
     },
     "execution_count": 141,
     "metadata": {},
     "output_type": "execute_result"
    }
   ],
   "source": [
    "initialize_list_with_range(9, 0, 2) # [0, 2, 4, 6, 8]"
   ]
  },
  {
   "cell_type": "markdown",
   "metadata": {},
   "source": [
    "### initialize_list_with_values\n",
    "\n",
    "Initializes and fills a list with the specified value.\n",
    "\n",
    "Use list comprehension and `range()` to generate a list of length equal to `n`, filled with the desired values.\n",
    "Omit `val` to use the default value of `0`."
   ]
  },
  {
   "cell_type": "code",
   "execution_count": 142,
   "metadata": {},
   "outputs": [],
   "source": [
    "def initialize_list_with_values(n, val = 0):\n",
    "  return [val for x in range(n)]"
   ]
  },
  {
   "cell_type": "code",
   "execution_count": 143,
   "metadata": {},
   "outputs": [
    {
     "data": {
      "text/plain": [
       "[2, 2, 2, 2, 2]"
      ]
     },
     "execution_count": 143,
     "metadata": {},
     "output_type": "execute_result"
    }
   ],
   "source": [
    "initialize_list_with_values(5, 2) # [2, 2, 2, 2, 2]"
   ]
  },
  {
   "cell_type": "markdown",
   "metadata": {},
   "source": [
    "### initial\n",
    "\n",
    "Returns all the elements of a list except the last one.\n",
    "\n",
    "Use `lst[0:-1]` to return all but the last element of the list."
   ]
  },
  {
   "cell_type": "code",
   "execution_count": 144,
   "metadata": {},
   "outputs": [],
   "source": [
    "def initial(lst):\n",
    "  return lst[0:-1]"
   ]
  },
  {
   "cell_type": "code",
   "execution_count": 145,
   "metadata": {},
   "outputs": [
    {
     "data": {
      "text/plain": [
       "[1, 2]"
      ]
     },
     "execution_count": 145,
     "metadata": {},
     "output_type": "execute_result"
    }
   ],
   "source": [
    "initial([1, 2, 3]) # [1,2]"
   ]
  },
  {
   "cell_type": "markdown",
   "metadata": {},
   "source": [
    "### in_range\n",
    "\n",
    "Checks if the given number falls within the given range.\n",
    "\n",
    "Use arithmetic comparison to check if the given number is in the specified range.\n",
    "If the second parameter, `end`, is not specified, the range is considered to be from `0` to `start`."
   ]
  },
  {
   "cell_type": "code",
   "execution_count": 146,
   "metadata": {},
   "outputs": [],
   "source": [
    "def in_range(n, start, end = 0):\n",
    "  return start <= n <= end if end >= start else end <= n <= start"
   ]
  },
  {
   "cell_type": "code",
   "execution_count": 147,
   "metadata": {},
   "outputs": [
    {
     "data": {
      "text/plain": [
       "True"
      ]
     },
     "execution_count": 147,
     "metadata": {},
     "output_type": "execute_result"
    }
   ],
   "source": [
    "in_range(3, 2, 5) # True"
   ]
  },
  {
   "cell_type": "code",
   "execution_count": 148,
   "metadata": {},
   "outputs": [
    {
     "data": {
      "text/plain": [
       "True"
      ]
     },
     "execution_count": 148,
     "metadata": {},
     "output_type": "execute_result"
    }
   ],
   "source": [
    "in_range(3, 4) # True"
   ]
  },
  {
   "cell_type": "code",
   "execution_count": 149,
   "metadata": {},
   "outputs": [
    {
     "data": {
      "text/plain": [
       "False"
      ]
     },
     "execution_count": 149,
     "metadata": {},
     "output_type": "execute_result"
    }
   ],
   "source": [
    "in_range(2, 3, 5) # False"
   ]
  },
  {
   "cell_type": "code",
   "execution_count": 150,
   "metadata": {},
   "outputs": [
    {
     "data": {
      "text/plain": [
       "False"
      ]
     },
     "execution_count": 150,
     "metadata": {},
     "output_type": "execute_result"
    }
   ],
   "source": [
    "in_range(3, 2) # False"
   ]
  },
  {
   "cell_type": "markdown",
   "metadata": {},
   "source": [
    "### intersection_by\n",
    "\n",
    "Returns a list of elements that exist in both lists, after applying the provided function to each list element of both.\n",
    "\n",
    "Create a `set` by applying `fn` to each element in `b`, then use list comprehension in combination with `fn` on `a` to only keep values contained in both lists."
   ]
  },
  {
   "cell_type": "code",
   "execution_count": 151,
   "metadata": {},
   "outputs": [],
   "source": [
    "def intersection_by(a, b, fn):\n",
    "  _b = set(map(fn, b))\n",
    "  return [item for item in a if fn(item) in _b]"
   ]
  },
  {
   "cell_type": "code",
   "execution_count": 152,
   "metadata": {},
   "outputs": [
    {
     "data": {
      "text/plain": [
       "[2.1]"
      ]
     },
     "execution_count": 152,
     "metadata": {},
     "output_type": "execute_result"
    }
   ],
   "source": [
    "from math import floor\n",
    "intersection_by([2.1, 1.2], [2.3, 3.4],floor) # [2.1]"
   ]
  },
  {
   "cell_type": "markdown",
   "metadata": {},
   "source": [
    "### intersection\n",
    "\n",
    "Returns a list of elements that exist in both lists.\n",
    "\n",
    "Create a `set` from `a` and `b`, then use the built-in set operator `&` to only keep values contained in both sets, then transform the `set` back into a `list`."
   ]
  },
  {
   "cell_type": "code",
   "execution_count": 153,
   "metadata": {},
   "outputs": [],
   "source": [
    "def intersection(a, b):\n",
    "  _a, _b = set(a), set(b)\n",
    "  return list(_a & _b)"
   ]
  },
  {
   "cell_type": "code",
   "execution_count": 154,
   "metadata": {},
   "outputs": [
    {
     "data": {
      "text/plain": [
       "[2, 3]"
      ]
     },
     "execution_count": 154,
     "metadata": {},
     "output_type": "execute_result"
    }
   ],
   "source": [
    "intersection([1, 2, 3], [4, 3, 2]) # [2, 3]"
   ]
  },
  {
   "cell_type": "markdown",
   "metadata": {},
   "source": [
    "### invert_dictionary\n",
    "\n",
    "Inverts a dictionary with unique hashable values.\n",
    "\n",
    "Use `dictionary.items()` in combination with a list comprehension to create a new dictionary with the values and keys inverted."
   ]
  },
  {
   "cell_type": "code",
   "execution_count": 155,
   "metadata": {},
   "outputs": [],
   "source": [
    "def invert_dictionary(obj):\n",
    "  return { value: key for key, value in obj.items() }"
   ]
  },
  {
   "cell_type": "code",
   "execution_count": 156,
   "metadata": {},
   "outputs": [
    {
     "data": {
      "text/plain": [
       "{10: 'Peter', 11: 'Isabel', 9: 'Anna'}"
      ]
     },
     "execution_count": 156,
     "metadata": {},
     "output_type": "execute_result"
    }
   ],
   "source": [
    "ages = {\n",
    "  \"Peter\": 10,\n",
    "  \"Isabel\": 11,\n",
    "  \"Anna\": 9,\n",
    "}\n",
    "invert_dictionary(ages) # { 10: \"Peter\", 11 \"Isabel\", 9: \"Anna\" }"
   ]
  },
  {
   "cell_type": "markdown",
   "metadata": {},
   "source": [
    "### is_anagram\n",
    "\n",
    "Checks if a string is an anagram of another string (case-insensitive, ignores spaces, punctuation and special characters).\n",
    "\n",
    "Use `isalnum()` to filter out non-alphanumeric characters, `lower()` to transform each character to lowercase.\n",
    "Use `collections.Counter` to count the resulting characters for each string and compare the results."
   ]
  },
  {
   "cell_type": "code",
   "execution_count": 157,
   "metadata": {},
   "outputs": [],
   "source": [
    "from collections import Counter\n",
    "\n",
    "def is_anagram(s1, s2):\n",
    "  return Counter(\n",
    "    c.lower() for c in s1 if c.isalnum()\n",
    "  ) == Counter(\n",
    "    c.lower() for c in s2 if c.isalnum()\n",
    "  )"
   ]
  },
  {
   "cell_type": "code",
   "execution_count": 158,
   "metadata": {},
   "outputs": [
    {
     "data": {
      "text/plain": [
       "True"
      ]
     },
     "execution_count": 158,
     "metadata": {},
     "output_type": "execute_result"
    }
   ],
   "source": [
    "is_anagram(\"#anagram\", \"Nag a ram!\")  # True"
   ]
  },
  {
   "cell_type": "markdown",
   "metadata": {},
   "source": [
    "### is_contained_in\n",
    "\n",
    "Returns `True` if the elements of the first list are contained in the second one regardless of order, `False` otherwise.\n",
    "\n",
    "Use `count()` to check if any value in `a` has more occurences than it has in `b`, returning `False` if any such value is found, `True` otherwise."
   ]
  },
  {
   "cell_type": "code",
   "execution_count": 159,
   "metadata": {},
   "outputs": [],
   "source": [
    "def is_contained_in(a, b):\n",
    "  for v in set(a):\n",
    "    if a.count(v) > b.count(v):\n",
    "      return False\n",
    "  return True"
   ]
  },
  {
   "cell_type": "code",
   "execution_count": 160,
   "metadata": {},
   "outputs": [
    {
     "data": {
      "text/plain": [
       "True"
      ]
     },
     "execution_count": 160,
     "metadata": {},
     "output_type": "execute_result"
    }
   ],
   "source": [
    "is_contained_in([1, 4], [2, 4, 1]) # True"
   ]
  },
  {
   "cell_type": "markdown",
   "metadata": {},
   "source": [
    "### is_divisible\n",
    "\n",
    "Checks if the first numeric argument is divisible by the second one.\n",
    "\n",
    "Use the modulo operator (`%`) to check if the remainder is equal to `0`."
   ]
  },
  {
   "cell_type": "code",
   "execution_count": 161,
   "metadata": {},
   "outputs": [],
   "source": [
    "def is_divisible(dividend, divisor):\n",
    "  return dividend % divisor == 0"
   ]
  },
  {
   "cell_type": "code",
   "execution_count": 162,
   "metadata": {},
   "outputs": [
    {
     "data": {
      "text/plain": [
       "True"
      ]
     },
     "execution_count": 162,
     "metadata": {},
     "output_type": "execute_result"
    }
   ],
   "source": [
    "is_divisible(6, 3) # True"
   ]
  },
  {
   "cell_type": "markdown",
   "metadata": {},
   "source": [
    "### is_even\n",
    "\n",
    "Returns `True` if the given number is even, `False` otherwise.\n",
    "\n",
    "Checks whether a number is odd or even using the modulo (`%`) operator.\n",
    "Returns `True` if the number is even, `False` if the number is odd."
   ]
  },
  {
   "cell_type": "code",
   "execution_count": 163,
   "metadata": {},
   "outputs": [],
   "source": [
    "def is_even(num):\n",
    "  return num % 2 == 0"
   ]
  },
  {
   "cell_type": "code",
   "execution_count": 164,
   "metadata": {},
   "outputs": [
    {
     "data": {
      "text/plain": [
       "False"
      ]
     },
     "execution_count": 164,
     "metadata": {},
     "output_type": "execute_result"
    }
   ],
   "source": [
    "is_even(3) # False"
   ]
  },
  {
   "cell_type": "markdown",
   "metadata": {},
   "source": [
    "### is_odd\n",
    "\n",
    "Returns `True` if the given number is odd, `False` otherwise.\n",
    "\n",
    "Checks whether a number is even or odd using the modulo (`%`) operator.\n",
    "Returns `True` if the number is odd, `False` if the number is even."
   ]
  },
  {
   "cell_type": "code",
   "execution_count": 165,
   "metadata": {},
   "outputs": [],
   "source": [
    "def is_odd(num):\n",
    "  return num % 2 != 0"
   ]
  },
  {
   "cell_type": "code",
   "execution_count": 166,
   "metadata": {},
   "outputs": [
    {
     "data": {
      "text/plain": [
       "True"
      ]
     },
     "execution_count": 166,
     "metadata": {},
     "output_type": "execute_result"
    }
   ],
   "source": [
    "is_odd(3) # True"
   ]
  },
  {
   "cell_type": "markdown",
   "metadata": {},
   "source": [
    "### kebab\n",
    "\n",
    "Converts a string to kebab case.\n",
    "\n",
    "Break the string into words and combine them adding `-` as a separator, using a regexp.\n",
    "\n",
    "from re import sub"
   ]
  },
  {
   "cell_type": "code",
   "execution_count": 167,
   "metadata": {},
   "outputs": [],
   "source": [
    "def kebab(s):\n",
    "  return sub(\n",
    "    r\"(\\s|_|-)+\",\"-\",\n",
    "    sub(\n",
    "      r\"[A-Z]{2,}(?=[A-Z][a-z]+[0-9]*|\\b)|[A-Z]?[a-z]+[0-9]*|[A-Z]|[0-9]+\",\n",
    "      lambda mo: mo.group(0).lower(), s))"
   ]
  },
  {
   "cell_type": "code",
   "execution_count": 168,
   "metadata": {},
   "outputs": [
    {
     "data": {
      "text/plain": [
       "'camelcase'"
      ]
     },
     "execution_count": 168,
     "metadata": {},
     "output_type": "execute_result"
    }
   ],
   "source": [
    "kebab('camelCase') # 'camel-case'"
   ]
  },
  {
   "cell_type": "code",
   "execution_count": 169,
   "metadata": {},
   "outputs": [
    {
     "data": {
      "text/plain": [
       "'some-text'"
      ]
     },
     "execution_count": 169,
     "metadata": {},
     "output_type": "execute_result"
    }
   ],
   "source": [
    "kebab('some text') # 'some-text'"
   ]
  },
  {
   "cell_type": "code",
   "execution_count": 170,
   "metadata": {},
   "outputs": [
    {
     "data": {
      "text/plain": [
       "'some-mixed-string-with-spaces-underscores-and-hyphens'"
      ]
     },
     "execution_count": 170,
     "metadata": {},
     "output_type": "execute_result"
    }
   ],
   "source": [
    "kebab('some-mixed_string With spaces_underscores-and-hyphens') # 'some-mixed-string-with-spaces-underscores-and-hyphens'"
   ]
  },
  {
   "cell_type": "code",
   "execution_count": 171,
   "metadata": {},
   "outputs": [
    {
     "data": {
      "text/plain": [
       "'allthe-small-things'"
      ]
     },
     "execution_count": 171,
     "metadata": {},
     "output_type": "execute_result"
    }
   ],
   "source": [
    "kebab('AllThe-small Things') # \"all-the-small-things\""
   ]
  },
  {
   "cell_type": "markdown",
   "metadata": {},
   "source": [
    "### keys_only\n",
    "\n",
    "Returns a flat list of all the keys in a flat dictionary.\n",
    "\n",
    "Use `dict.keys()` to return the keys in the given dictionary.\n",
    "Return a `list()` of the previous result."
   ]
  },
  {
   "cell_type": "code",
   "execution_count": 172,
   "metadata": {},
   "outputs": [],
   "source": [
    "def keys_only(flat_dict):\n",
    "  return list(flat_dict.keys())"
   ]
  },
  {
   "cell_type": "code",
   "execution_count": 173,
   "metadata": {},
   "outputs": [
    {
     "data": {
      "text/plain": [
       "['Peter', 'Isabel', 'Anna']"
      ]
     },
     "execution_count": 173,
     "metadata": {},
     "output_type": "execute_result"
    }
   ],
   "source": [
    "ages = {\n",
    "  \"Peter\": 10,\n",
    "  \"Isabel\": 11,\n",
    "  \"Anna\": 9,\n",
    "}\n",
    "keys_only(ages) # ['Peter', 'Isabel', 'Anna']"
   ]
  },
  {
   "cell_type": "markdown",
   "metadata": {},
   "source": [
    "### last\n",
    "\n",
    "Returns the last element in a list.\n",
    "\n",
    "use `lst[-1]` to return the last element of the passed list."
   ]
  },
  {
   "cell_type": "code",
   "execution_count": 174,
   "metadata": {},
   "outputs": [],
   "source": [
    "def last(lst):\n",
    "  return lst[-1]"
   ]
  },
  {
   "cell_type": "code",
   "execution_count": 175,
   "metadata": {},
   "outputs": [
    {
     "data": {
      "text/plain": [
       "3"
      ]
     },
     "execution_count": 175,
     "metadata": {},
     "output_type": "execute_result"
    }
   ],
   "source": [
    "last([1, 2, 3]) # 3"
   ]
  },
  {
   "cell_type": "markdown",
   "metadata": {},
   "source": [
    "### lcm\n",
    "\n",
    "Returns the least common multiple of a list of numbers.\n",
    "\n",
    "Use `functools.reduce()`, `math.gcd()` and `lcm(x,y) = x * y / gcd(x,y)` over the given list."
   ]
  },
  {
   "cell_type": "code",
   "execution_count": 176,
   "metadata": {},
   "outputs": [],
   "source": [
    "from functools import reduce\n",
    "from math import gcd\n",
    "\n",
    "def lcm(numbers):\n",
    "  return reduce((lambda x, y: int(x * y / gcd(x, y))), numbers)"
   ]
  },
  {
   "cell_type": "code",
   "execution_count": 177,
   "metadata": {},
   "outputs": [
    {
     "data": {
      "text/plain": [
       "84"
      ]
     },
     "execution_count": 177,
     "metadata": {},
     "output_type": "execute_result"
    }
   ],
   "source": [
    "lcm([12, 7]) # 84"
   ]
  },
  {
   "cell_type": "code",
   "execution_count": 178,
   "metadata": {},
   "outputs": [
    {
     "data": {
      "text/plain": [
       "60"
      ]
     },
     "execution_count": 178,
     "metadata": {},
     "output_type": "execute_result"
    }
   ],
   "source": [
    "lcm([1, 3, 4, 5]) # 60"
   ]
  },
  {
   "cell_type": "markdown",
   "metadata": {},
   "source": [
    "### longest_item\n",
    "\n",
    "Takes any number of iterable objects or objects with a length property and returns the longest one.\n",
    "If multiple objects have the same length, the first one will be returned.\n",
    "\n",
    "Use `max()` with `len` as the `key` to return the item with the greatest length."
   ]
  },
  {
   "cell_type": "code",
   "execution_count": 179,
   "metadata": {},
   "outputs": [],
   "source": [
    "def longest_item(*args):\n",
    "  return max(args, key=len)"
   ]
  },
  {
   "cell_type": "code",
   "execution_count": 180,
   "metadata": {},
   "outputs": [
    {
     "data": {
      "text/plain": [
       "'testcase'"
      ]
     },
     "execution_count": 180,
     "metadata": {},
     "output_type": "execute_result"
    }
   ],
   "source": [
    "longest_item('this', 'is', 'a', 'testcase') # 'testcase'"
   ]
  },
  {
   "cell_type": "code",
   "execution_count": 181,
   "metadata": {},
   "outputs": [
    {
     "data": {
      "text/plain": [
       "[1, 2, 3, 4, 5]"
      ]
     },
     "execution_count": 181,
     "metadata": {},
     "output_type": "execute_result"
    }
   ],
   "source": [
    "longest_item([1, 2, 3], [1, 2], [1, 2, 3, 4, 5]) # [1, 2, 3, 4, 5]"
   ]
  },
  {
   "cell_type": "code",
   "execution_count": 182,
   "metadata": {},
   "outputs": [
    {
     "data": {
      "text/plain": [
       "'foobar'"
      ]
     },
     "execution_count": 182,
     "metadata": {},
     "output_type": "execute_result"
    }
   ],
   "source": [
    "longest_item([1, 2, 3], 'foobar') # 'foobar'"
   ]
  },
  {
   "cell_type": "markdown",
   "metadata": {},
   "source": [
    "### map_dictionary\n",
    "\n",
    "Maps the values of a list to a dictionary using a function, where the key-value pairs consist of the original value as the key and the result of the function as the value.\n",
    "\n",
    "Use a `for` loop to iterate over the list's values, assigning the values produced by `fn` to each key of the dictionary."
   ]
  },
  {
   "cell_type": "code",
   "execution_count": 183,
   "metadata": {},
   "outputs": [],
   "source": [
    "def map_dictionary(itr, fn):\n",
    "  ret = {}\n",
    "  for x in itr:\n",
    "    ret[x] = fn(x)\n",
    "  return ret"
   ]
  },
  {
   "cell_type": "code",
   "execution_count": 184,
   "metadata": {},
   "outputs": [
    {
     "data": {
      "text/plain": [
       "{1: 1, 2: 4, 3: 9}"
      ]
     },
     "execution_count": 184,
     "metadata": {},
     "output_type": "execute_result"
    }
   ],
   "source": [
    "map_dictionary([1,2,3], lambda x: x * x) # { 1: 1, 2: 4, 3: 9 }"
   ]
  },
  {
   "cell_type": "markdown",
   "metadata": {},
   "source": [
    "### map_values\n",
    "\n",
    "Creates a dictionary with the same keys as the provided dictionary and values generated by running the provided function for each value.\n",
    "\n",
    "Use `dict.keys()` to iterate over the dictionary's keys, assigning the values produced by `fn` to each key of a new dictionary."
   ]
  },
  {
   "cell_type": "code",
   "execution_count": 185,
   "metadata": {},
   "outputs": [],
   "source": [
    "def map_values(obj, fn):\n",
    "  ret = {}\n",
    "  for key in obj.keys():\n",
    "    ret[key] = fn(obj[key])\n",
    "  return ret"
   ]
  },
  {
   "cell_type": "code",
   "execution_count": 186,
   "metadata": {},
   "outputs": [
    {
     "data": {
      "text/plain": [
       "{'fred': 40, 'pebbles': 1}"
      ]
     },
     "execution_count": 186,
     "metadata": {},
     "output_type": "execute_result"
    }
   ],
   "source": [
    "users = {\n",
    "  'fred': { 'user': 'fred', 'age': 40 },\n",
    "  'pebbles': { 'user': 'pebbles', 'age': 1 }\n",
    "}\n",
    "\n",
    "map_values(users, lambda u : u['age']) # {'fred': 40, 'pebbles': 1}"
   ]
  },
  {
   "cell_type": "markdown",
   "metadata": {},
   "source": [
    "### max_by\n",
    "\n",
    "Returns the maximum value of a list, after mapping each element to a value using the provided function.\n",
    "\n",
    "Use `map()` with `fn` to map each element to a value using the provided function, use `max()` to return the maximum value."
   ]
  },
  {
   "cell_type": "code",
   "execution_count": 187,
   "metadata": {},
   "outputs": [],
   "source": [
    "def max_by(lst, fn):\n",
    "  return max(map(fn, lst))"
   ]
  },
  {
   "cell_type": "code",
   "execution_count": 188,
   "metadata": {},
   "outputs": [
    {
     "data": {
      "text/plain": [
       "8"
      ]
     },
     "execution_count": 188,
     "metadata": {},
     "output_type": "execute_result"
    }
   ],
   "source": [
    "max_by([{ 'n': 4 }, { 'n': 2 }, { 'n': 8 }, { 'n': 6 }], lambda v : v['n']) # 8"
   ]
  },
  {
   "cell_type": "markdown",
   "metadata": {},
   "source": [
    "### max_element_index\n",
    "\n",
    "Returns the index of the element with the maximum value in a list.\n",
    "\n",
    "Use `max()` and `list.index()` to get the maximum value in the list and return its index."
   ]
  },
  {
   "cell_type": "code",
   "execution_count": 189,
   "metadata": {},
   "outputs": [],
   "source": [
    "def max_element_index(arr):\n",
    "  return arr.index(max(arr))"
   ]
  },
  {
   "cell_type": "code",
   "execution_count": 190,
   "metadata": {},
   "outputs": [
    {
     "data": {
      "text/plain": [
       "4"
      ]
     },
     "execution_count": 190,
     "metadata": {},
     "output_type": "execute_result"
    }
   ],
   "source": [
    "max_element_index([5, 8, 9, 7, 10, 3, 0]) # 4"
   ]
  },
  {
   "cell_type": "markdown",
   "metadata": {},
   "source": [
    "### max_n\n",
    "\n",
    "Returns the `n` maximum elements from the provided list.\n",
    "If `n` is greater than or equal to the provided list's length, then return the original list (sorted in descending order).\n",
    "\n",
    "Use `sorted()` to sort the list, `[:n]` to get the specified number of elements.\n",
    "Omit the second argument, `n`, to get a one-element list."
   ]
  },
  {
   "cell_type": "code",
   "execution_count": 191,
   "metadata": {},
   "outputs": [],
   "source": [
    "def max_n(lst, n=1):\n",
    "  return sorted(lst, reverse=True)[:n]"
   ]
  },
  {
   "cell_type": "code",
   "execution_count": 192,
   "metadata": {},
   "outputs": [
    {
     "data": {
      "text/plain": [
       "[3]"
      ]
     },
     "execution_count": 192,
     "metadata": {},
     "output_type": "execute_result"
    }
   ],
   "source": [
    "max_n([1, 2, 3]) # [3]"
   ]
  },
  {
   "cell_type": "code",
   "execution_count": 193,
   "metadata": {},
   "outputs": [
    {
     "data": {
      "text/plain": [
       "[3, 2]"
      ]
     },
     "execution_count": 193,
     "metadata": {},
     "output_type": "execute_result"
    }
   ],
   "source": [
    "max_n([1, 2, 3], 2) # [3,2]"
   ]
  },
  {
   "cell_type": "markdown",
   "metadata": {},
   "source": [
    "### median\n",
    "\n",
    "Finds the median of a list of numbers.\n",
    "\n",
    "Sort the numbers of the list using `list.sort()` and find the median, which is either the middle element of the list if the list length is odd or the average of the two middle elements if the list length is even.\n",
    "\n",
    "[`statistics.median()`](https://docs.python.org/3/library/statistics.html#statistics.median) provides similar functionality to this snippet."
   ]
  },
  {
   "cell_type": "code",
   "execution_count": 194,
   "metadata": {},
   "outputs": [],
   "source": [
    "def median(list):\n",
    "  list.sort()\n",
    "  list_length = len(list)\n",
    "  if list_length % 2 == 0:\n",
    "    return (list[int(list_length / 2) - 1] + list[int(list_length / 2)]) / 2\n",
    "  return list[int(list_length / 2)]"
   ]
  },
  {
   "cell_type": "code",
   "execution_count": 195,
   "metadata": {},
   "outputs": [
    {
     "data": {
      "text/plain": [
       "2"
      ]
     },
     "execution_count": 195,
     "metadata": {},
     "output_type": "execute_result"
    }
   ],
   "source": [
    "median([1,2,3]) # 2"
   ]
  },
  {
   "cell_type": "code",
   "execution_count": 196,
   "metadata": {},
   "outputs": [
    {
     "data": {
      "text/plain": [
       "2.5"
      ]
     },
     "execution_count": 196,
     "metadata": {},
     "output_type": "execute_result"
    }
   ],
   "source": [
    "median([1,2,3,4]) # 2.5"
   ]
  },
  {
   "cell_type": "markdown",
   "metadata": {},
   "source": [
    "### merge_dictionaries\n",
    "\n",
    "Merges two or more dictionaries.\n",
    "\n",
    "Create a new `dict()` and loop over `dicts`, using `dictionary.update()` to add the key-value pairs from each one to the result."
   ]
  },
  {
   "cell_type": "code",
   "execution_count": 197,
   "metadata": {},
   "outputs": [],
   "source": [
    "def merge_dictionaries(*dicts):\n",
    "  res = dict()\n",
    "  for d in dicts:\n",
    "    res.update(d)\n",
    "  return res"
   ]
  },
  {
   "cell_type": "code",
   "execution_count": 198,
   "metadata": {},
   "outputs": [
    {
     "data": {
      "text/plain": [
       "{'Peter': 10, 'Isabel': 11, 'Anna': 9}"
      ]
     },
     "execution_count": 198,
     "metadata": {},
     "output_type": "execute_result"
    }
   ],
   "source": [
    "ages_one = {\n",
    "  \"Peter\": 10,\n",
    "  \"Isabel\": 11,\n",
    "}\n",
    "ages_two = {\n",
    "  \"Anna\": 9\n",
    "}\n",
    "merge_dictionaries(ages_one, ages_two) # { \"Peter\": 10, \"Isabel\": 11, \"Anna\": 9 }"
   ]
  },
  {
   "cell_type": "markdown",
   "metadata": {},
   "source": [
    "### merge\n",
    "\n",
    "Merges two or more lists into a list of lists, combining elements from each of the input lists based on their positions.\n",
    "\n",
    "Use `max` combined with list comprehension to get the length of the longest list in the arguments.\n",
    "Use `range()` in combination with the `max_length` variable to loop as many times as there are elements in the longest list.\n",
    "If a list is shorter than `max_length`, use `fill_value` for the remaining items (defaults to `None`).\n",
    "\n",
    "[`zip()`](https://docs.python.org/3/library/functions.html#zip) and [`itertools.zip_longest()`](https://docs.python.org/3/library/itertools.html#itertools.zip_longest) provide similar functionality to this snippet."
   ]
  },
  {
   "cell_type": "code",
   "execution_count": 199,
   "metadata": {},
   "outputs": [],
   "source": [
    "def merge(*args, fill_value=None):\n",
    "  max_length = max([len(lst) for lst in args])\n",
    "  result = []\n",
    "  for i in range(max_length):\n",
    "    result.append([\n",
    "      args[k][i] if i < len(args[k]) else fill_value for k in range(len(args))\n",
    "    ])\n",
    "  return result"
   ]
  },
  {
   "cell_type": "code",
   "execution_count": 200,
   "metadata": {},
   "outputs": [
    {
     "data": {
      "text/plain": [
       "[['a', 1, True], ['b', 2, False]]"
      ]
     },
     "execution_count": 200,
     "metadata": {},
     "output_type": "execute_result"
    }
   ],
   "source": [
    "merge(['a', 'b'], [1, 2], [True, False]) # [['a', 1, True], ['b', 2, False]]"
   ]
  },
  {
   "cell_type": "code",
   "execution_count": 201,
   "metadata": {},
   "outputs": [
    {
     "data": {
      "text/plain": [
       "[['a', 1, True], [None, 2, False]]"
      ]
     },
     "execution_count": 201,
     "metadata": {},
     "output_type": "execute_result"
    }
   ],
   "source": [
    "merge(['a'], [1, 2], [True, False]) # [['a', 1, True], [None, 2, False]]"
   ]
  },
  {
   "cell_type": "code",
   "execution_count": 202,
   "metadata": {},
   "outputs": [
    {
     "data": {
      "text/plain": [
       "[['a', 1, True], ['_', 2, False]]"
      ]
     },
     "execution_count": 202,
     "metadata": {},
     "output_type": "execute_result"
    }
   ],
   "source": [
    "merge(['a'], [1, 2], [True, False], fill_value = '_') # [['a', 1, True], ['_', 2, False]]"
   ]
  },
  {
   "cell_type": "markdown",
   "metadata": {},
   "source": [
    "### min_by\n",
    "\n",
    "Returns the minimum value of a list, after mapping each element to a value using the provided function.\n",
    "\n",
    "Use `map()` with `fn` to map each element to a value using the provided function, use `min()` to return the minimum value."
   ]
  },
  {
   "cell_type": "code",
   "execution_count": 203,
   "metadata": {},
   "outputs": [],
   "source": [
    "def min_by(lst, fn):\n",
    "  return min(map(fn, lst))"
   ]
  },
  {
   "cell_type": "code",
   "execution_count": 204,
   "metadata": {},
   "outputs": [
    {
     "data": {
      "text/plain": [
       "2"
      ]
     },
     "execution_count": 204,
     "metadata": {},
     "output_type": "execute_result"
    }
   ],
   "source": [
    "min_by([{ 'n': 4 }, { 'n': 2 }, { 'n': 8 }, { 'n': 6 }], lambda v : v['n']) # 2"
   ]
  },
  {
   "cell_type": "markdown",
   "metadata": {},
   "source": [
    "### min_n\n",
    "\n",
    "Returns the `n` minimum elements from the provided list.\n",
    "If `n` is greater than or equal to the provided list's length, then return the original list (sorted in ascending order).\n",
    "\n",
    "Use `sorted() to sort the list, `[:n]` to get the specified number of elements.\n",
    "Omit the second argument, `n`, to get a one-element list."
   ]
  },
  {
   "cell_type": "code",
   "execution_count": 205,
   "metadata": {},
   "outputs": [],
   "source": [
    "def min_n(lst, n=1):\n",
    "  return sorted(lst, reverse=False)[:n]"
   ]
  },
  {
   "cell_type": "code",
   "execution_count": 206,
   "metadata": {},
   "outputs": [
    {
     "data": {
      "text/plain": [
       "[1]"
      ]
     },
     "execution_count": 206,
     "metadata": {},
     "output_type": "execute_result"
    }
   ],
   "source": [
    "min_n([1, 2, 3]) # [1]"
   ]
  },
  {
   "cell_type": "code",
   "execution_count": 207,
   "metadata": {},
   "outputs": [
    {
     "data": {
      "text/plain": [
       "[1, 2]"
      ]
     },
     "execution_count": 207,
     "metadata": {},
     "output_type": "execute_result"
    }
   ],
   "source": [
    "min_n([1, 2, 3], 2) # [1,2]"
   ]
  },
  {
   "cell_type": "markdown",
   "metadata": {},
   "source": [
    "### most_frequent\n",
    "\n",
    "Returns the most frequent element in a list.\n",
    "\n",
    "Use `set(list)` to get the unique values in the `list` combined with `max()` to find the element that has the most appearances."
   ]
  },
  {
   "cell_type": "code",
   "execution_count": 208,
   "metadata": {},
   "outputs": [],
   "source": [
    "def most_frequent(list):\n",
    "  return max(set(list), key=list.count)"
   ]
  },
  {
   "cell_type": "code",
   "execution_count": 209,
   "metadata": {},
   "outputs": [
    {
     "data": {
      "text/plain": [
       "2"
      ]
     },
     "execution_count": 209,
     "metadata": {},
     "output_type": "execute_result"
    }
   ],
   "source": [
    "most_frequent([1, 2, 1, 2, 3, 2, 1, 4, 2]) #2"
   ]
  },
  {
   "cell_type": "markdown",
   "metadata": {},
   "source": [
    "### none\n",
    "\n",
    "Returns `False` if the provided function returns `True` for at least one element in the list, `True` otherwise.\n",
    "\n",
    "Use `all()` and `fn` to check if `fn` returns `False` for all the elements in the list."
   ]
  },
  {
   "cell_type": "code",
   "execution_count": 210,
   "metadata": {},
   "outputs": [],
   "source": [
    "def none(lst, fn=lambda x: x):\n",
    "  return all(not fn(x) for x in lst)"
   ]
  },
  {
   "cell_type": "code",
   "execution_count": 211,
   "metadata": {},
   "outputs": [
    {
     "data": {
      "text/plain": [
       "False"
      ]
     },
     "execution_count": 211,
     "metadata": {},
     "output_type": "execute_result"
    }
   ],
   "source": [
    "none([0, 1, 2, 0], lambda x: x >= 2 ) # False"
   ]
  },
  {
   "cell_type": "code",
   "execution_count": 212,
   "metadata": {},
   "outputs": [
    {
     "data": {
      "text/plain": [
       "True"
      ]
     },
     "execution_count": 212,
     "metadata": {},
     "output_type": "execute_result"
    }
   ],
   "source": [
    "none([0, 0, 0]) # True"
   ]
  },
  {
   "cell_type": "markdown",
   "metadata": {},
   "source": [
    "### n_times_string\n",
    "\n",
    "Prints out the same string a defined number of times.\n",
    "\n",
    "Repeat the string `n` times, using the `*` operator."
   ]
  },
  {
   "cell_type": "code",
   "execution_count": 213,
   "metadata": {},
   "outputs": [],
   "source": [
    "def n_times_string(s, n):\n",
    "  return (s * n)"
   ]
  },
  {
   "cell_type": "code",
   "execution_count": 214,
   "metadata": {},
   "outputs": [
    {
     "data": {
      "text/plain": [
       "'pypypypy'"
      ]
     },
     "execution_count": 214,
     "metadata": {},
     "output_type": "execute_result"
    }
   ],
   "source": [
    "n_times_string('py', 4) #'pypypypy'"
   ]
  },
  {
   "cell_type": "markdown",
   "metadata": {},
   "source": [
    "### offset\n",
    "\n",
    "Moves the specified amount of elements to the end of the list.\n",
    "\n",
    "Use `lst[offset:]` and `lst[:offset]` to get the two slices of the list and combine them before returning."
   ]
  },
  {
   "cell_type": "code",
   "execution_count": 215,
   "metadata": {},
   "outputs": [],
   "source": [
    "def offset(lst, offset):\n",
    "  return lst[offset:] + lst[:offset]"
   ]
  },
  {
   "cell_type": "code",
   "execution_count": 216,
   "metadata": {},
   "outputs": [
    {
     "data": {
      "text/plain": [
       "[3, 4, 5, 1, 2]"
      ]
     },
     "execution_count": 216,
     "metadata": {},
     "output_type": "execute_result"
    }
   ],
   "source": [
    "offset([1, 2, 3, 4, 5], 2) # [3, 4, 5, 1, 2]"
   ]
  },
  {
   "cell_type": "code",
   "execution_count": 217,
   "metadata": {},
   "outputs": [
    {
     "data": {
      "text/plain": [
       "[4, 5, 1, 2, 3]"
      ]
     },
     "execution_count": 217,
     "metadata": {},
     "output_type": "execute_result"
    }
   ],
   "source": [
    "offset([1, 2, 3, 4, 5], -2) # [4, 5, 1, 2, 3]"
   ]
  },
  {
   "cell_type": "markdown",
   "metadata": {},
   "source": [
    "### palindrome\n",
    "\n",
    "Returns `True` if the given string is a palindrome, `False` otherwise.\n",
    "\n",
    "Use `s.lower()` and `re.sub()` to convert to lowercase and  remove non-alphanumeric characters from the given string.\n",
    "Then, compare the new string with its reverse."
   ]
  },
  {
   "cell_type": "code",
   "execution_count": 218,
   "metadata": {},
   "outputs": [],
   "source": [
    "from re import sub\n",
    "\n",
    "def palindrome(s):\n",
    "  s = sub('[\\W_]', '', s.lower())\n",
    "  return s == s[::-1]"
   ]
  },
  {
   "cell_type": "code",
   "execution_count": 219,
   "metadata": {},
   "outputs": [
    {
     "data": {
      "text/plain": [
       "True"
      ]
     },
     "execution_count": 219,
     "metadata": {},
     "output_type": "execute_result"
    }
   ],
   "source": [
    "palindrome('taco cat') # True"
   ]
  },
  {
   "cell_type": "markdown",
   "metadata": {},
   "source": [
    "### rads_to_degrees\n",
    "\n",
    "Converts an angle from radians to degrees.\n",
    "\n",
    "Use `math.pi` and the radian to degree formula to convert the angle from radians to degrees.\n",
    "\n",
    "from math import pi"
   ]
  },
  {
   "cell_type": "code",
   "execution_count": 220,
   "metadata": {},
   "outputs": [],
   "source": [
    "def rads_to_degrees(rad):\n",
    "  return (rad * 180.0) / math.pi"
   ]
  },
  {
   "cell_type": "code",
   "execution_count": 221,
   "metadata": {},
   "outputs": [
    {
     "ename": "NameError",
     "evalue": "name 'math' is not defined",
     "output_type": "error",
     "traceback": [
      "\u001b[0;31m---------------------------------------------------------------------------\u001b[0m",
      "\u001b[0;31mNameError\u001b[0m                                 Traceback (most recent call last)",
      "\u001b[0;32m<ipython-input-221-0db88f188e0f>\u001b[0m in \u001b[0;36m<module>\u001b[0;34m\u001b[0m\n\u001b[1;32m      1\u001b[0m \u001b[0;32mfrom\u001b[0m \u001b[0mmath\u001b[0m \u001b[0;32mimport\u001b[0m \u001b[0mpi\u001b[0m\u001b[0;34m\u001b[0m\u001b[0;34m\u001b[0m\u001b[0m\n\u001b[0;32m----> 2\u001b[0;31m \u001b[0mrads_to_degrees\u001b[0m\u001b[0;34m(\u001b[0m\u001b[0mmath\u001b[0m\u001b[0;34m.\u001b[0m\u001b[0mpi\u001b[0m \u001b[0;34m/\u001b[0m \u001b[0;36m2\u001b[0m\u001b[0;34m)\u001b[0m \u001b[0;31m# 90.0\u001b[0m\u001b[0;34m\u001b[0m\u001b[0;34m\u001b[0m\u001b[0m\n\u001b[0m",
      "\u001b[0;31mNameError\u001b[0m: name 'math' is not defined"
     ]
    }
   ],
   "source": [
    "from math import pi\n",
    "rads_to_degrees(math.pi / 2) # 90.0"
   ]
  },
  {
   "cell_type": "markdown",
   "metadata": {},
   "source": [
    "### reverse_string\n",
    "\n",
    "Returns the reverse of a string.\n",
    "\n",
    "Use string slicing to reverse the string."
   ]
  },
  {
   "cell_type": "code",
   "execution_count": 222,
   "metadata": {},
   "outputs": [],
   "source": [
    "def reverse_string(s):\n",
    "  return s[::-1]"
   ]
  },
  {
   "cell_type": "code",
   "execution_count": 223,
   "metadata": {},
   "outputs": [
    {
     "data": {
      "text/plain": [
       "'teppins'"
      ]
     },
     "execution_count": 223,
     "metadata": {},
     "output_type": "execute_result"
    }
   ],
   "source": [
    "reverse_string(\"snippet\") #\"teppins\""
   ]
  },
  {
   "cell_type": "markdown",
   "metadata": {},
   "source": [
    "### sample\n",
    "\n",
    "Returns a random element from a list.\n",
    "\n",
    "Use `random.randint()` to generate a random number that corresponds to an index in the list, return the element at that index.\n",
    "\n",
    "[`random.sample()`](https://docs.python.org/3/library/random.html#random.sample) provides similar functionality to this snippet."
   ]
  },
  {
   "cell_type": "code",
   "execution_count": 224,
   "metadata": {},
   "outputs": [],
   "source": [
    "from random import randint\n",
    "\n",
    "def sample(lst):\n",
    "  return lst[randint(0, len(lst) - 1)]"
   ]
  },
  {
   "cell_type": "code",
   "execution_count": 225,
   "metadata": {},
   "outputs": [
    {
     "data": {
      "text/plain": [
       "3"
      ]
     },
     "execution_count": 225,
     "metadata": {},
     "output_type": "execute_result"
    }
   ],
   "source": [
    "sample([3, 7, 9, 11]) # 9"
   ]
  },
  {
   "cell_type": "markdown",
   "metadata": {},
   "source": [
    "### shuffle\n",
    "\n",
    "Randomizes the order of the values of an list, returning a new list.\n",
    "\n",
    "Uses the [Fisher-Yates algorithm](https://en.wikipedia.org/wiki/Fisher%E2%80%93Yates_shuffle) to reorder the elements of the list.\n",
    "\n",
    "[`random.shuffle`](https://docs.python.org/3/library/random.html#random.shuffle) provides similar functionality to this snippet."
   ]
  },
  {
   "cell_type": "code",
   "execution_count": 226,
   "metadata": {},
   "outputs": [],
   "source": [
    "from copy import deepcopy\n",
    "from random import randint\n",
    "\n",
    "def shuffle(lst):\n",
    "  temp_lst = deepcopy(lst)\n",
    "  m = len(temp_lst)\n",
    "  while (m):\n",
    "    m -= 1\n",
    "    i = randint(0, m)\n",
    "    temp_lst[m], temp_lst[i] = temp_lst[i], temp_lst[m]\n",
    "  return temp_lst"
   ]
  },
  {
   "cell_type": "code",
   "execution_count": 227,
   "metadata": {},
   "outputs": [
    {
     "data": {
      "text/plain": [
       "[2, 3, 1]"
      ]
     },
     "execution_count": 227,
     "metadata": {},
     "output_type": "execute_result"
    }
   ],
   "source": [
    "foo = [1,2,3]\n",
    "shuffle(foo) # [2,3,1], foo = [1,2,3]"
   ]
  },
  {
   "cell_type": "markdown",
   "metadata": {},
   "source": [
    "### similarity\n",
    "\n",
    "Returns a list of elements that exist in both lists.\n",
    "\n",
    "Use list comprehension on `a` to only keep values contained in both lists."
   ]
  },
  {
   "cell_type": "code",
   "execution_count": 228,
   "metadata": {},
   "outputs": [],
   "source": [
    "def similarity(a, b):\n",
    "  return [item for item in a if item in b]"
   ]
  },
  {
   "cell_type": "code",
   "execution_count": 229,
   "metadata": {},
   "outputs": [
    {
     "data": {
      "text/plain": [
       "[1, 2]"
      ]
     },
     "execution_count": 229,
     "metadata": {},
     "output_type": "execute_result"
    }
   ],
   "source": [
    "similarity([1, 2, 3], [1, 2, 4]) # [1, 2]"
   ]
  },
  {
   "cell_type": "markdown",
   "metadata": {},
   "source": [
    "### snake\n",
    "\n",
    "Converts a string to snake case.\n",
    "\n",
    "Break the string into words and combine them adding `_` as a separator, using a regexp."
   ]
  },
  {
   "cell_type": "code",
   "execution_count": 230,
   "metadata": {},
   "outputs": [],
   "source": [
    "from re import sub\n",
    "\n",
    "def snake(s):\n",
    "  return '_'.join(\n",
    "    sub('([A-Z][a-z]+)', r' \\1',\n",
    "    sub('([A-Z]+)', r' \\1',\n",
    "    s.replace('-', ' '))).split()).lower()"
   ]
  },
  {
   "cell_type": "code",
   "execution_count": 231,
   "metadata": {},
   "outputs": [
    {
     "data": {
      "text/plain": [
       "'camel_case'"
      ]
     },
     "execution_count": 231,
     "metadata": {},
     "output_type": "execute_result"
    }
   ],
   "source": [
    "snake('camelCase') # 'camel_case'"
   ]
  },
  {
   "cell_type": "code",
   "execution_count": 232,
   "metadata": {},
   "outputs": [
    {
     "data": {
      "text/plain": [
       "'some_text'"
      ]
     },
     "execution_count": 232,
     "metadata": {},
     "output_type": "execute_result"
    }
   ],
   "source": [
    "snake('some text') # 'some_text'"
   ]
  },
  {
   "cell_type": "code",
   "execution_count": 233,
   "metadata": {},
   "outputs": [
    {
     "data": {
      "text/plain": [
       "'some_mixed_string_with_spaces_underscores_and_hyphens'"
      ]
     },
     "execution_count": 233,
     "metadata": {},
     "output_type": "execute_result"
    }
   ],
   "source": [
    "snake('some-mixed_string With spaces_underscores-and-hyphens') # 'some_mixed_string_with_spaces_underscores_and_hyphens'"
   ]
  },
  {
   "cell_type": "code",
   "execution_count": 234,
   "metadata": {},
   "outputs": [
    {
     "data": {
      "text/plain": [
       "'all_the_small_things'"
      ]
     },
     "execution_count": 234,
     "metadata": {},
     "output_type": "execute_result"
    }
   ],
   "source": [
    "snake('AllThe-small Things') # \"all_the_small_things\""
   ]
  },
  {
   "cell_type": "markdown",
   "metadata": {},
   "source": [
    "### some\n",
    "\n",
    "Returns `True` if the provided function returns `True` for at least one element in the list, `False` otherwise.\n",
    "\n",
    "Use `any()` in combination with `map()` and `fn` to check if `fn` returns `True` for any element in the list."
   ]
  },
  {
   "cell_type": "code",
   "execution_count": 235,
   "metadata": {},
   "outputs": [],
   "source": [
    "def some(lst, fn=lambda x: x):\n",
    "  return any(map(fn, lst))"
   ]
  },
  {
   "cell_type": "code",
   "execution_count": 236,
   "metadata": {},
   "outputs": [
    {
     "data": {
      "text/plain": [
       "True"
      ]
     },
     "execution_count": 236,
     "metadata": {},
     "output_type": "execute_result"
    }
   ],
   "source": [
    "some([0, 1, 2, 0], lambda x: x >= 2 ) # True"
   ]
  },
  {
   "cell_type": "code",
   "execution_count": 237,
   "metadata": {},
   "outputs": [
    {
     "data": {
      "text/plain": [
       "True"
      ]
     },
     "execution_count": 237,
     "metadata": {},
     "output_type": "execute_result"
    }
   ],
   "source": [
    "some([0, 0, 1, 0]) # True"
   ]
  },
  {
   "cell_type": "markdown",
   "metadata": {},
   "source": [
    "### split_lines\n",
    "\n",
    "Splits a multiline string into a list of lines.\n",
    "\n",
    "Use `s.split()` and `'\\n'` to match line breaks and create a list.\n",
    "\n",
    "[`str.splitlines()`](https://docs.python.org/3/library/stdtypes.html#str.splitlines) provides similar functionality to this snippet."
   ]
  },
  {
   "cell_type": "code",
   "execution_count": 238,
   "metadata": {},
   "outputs": [],
   "source": [
    "def split_lines(s):\n",
    "  return s.split('\\n')"
   ]
  },
  {
   "cell_type": "code",
   "execution_count": 239,
   "metadata": {},
   "outputs": [
    {
     "data": {
      "text/plain": [
       "['This', 'is a', 'multiline', 'string.', '']"
      ]
     },
     "execution_count": 239,
     "metadata": {},
     "output_type": "execute_result"
    }
   ],
   "source": [
    "split_lines('This\\nis a\\nmultiline\\nstring.\\n') # ['This', 'is a', 'multiline', 'string.' , '']"
   ]
  },
  {
   "cell_type": "markdown",
   "metadata": {},
   "source": [
    "### spread\n",
    "\n",
    "Flattens a list, by spreading its elements into a new list.\n",
    "\n",
    "Loop over elements, use `list.extend()` if the element is a list, `list.append()` otherwise."
   ]
  },
  {
   "cell_type": "code",
   "execution_count": 240,
   "metadata": {},
   "outputs": [],
   "source": [
    "def spread(arg):\n",
    "  ret = []\n",
    "  for i in arg:\n",
    "    ret.extend(i) if isinstance(i, list) else ret.append(i)\n",
    "  return ret"
   ]
  },
  {
   "cell_type": "code",
   "execution_count": 241,
   "metadata": {},
   "outputs": [
    {
     "data": {
      "text/plain": [
       "[1, 2, 3, 4, 5, 6, 7, 8, 9]"
      ]
     },
     "execution_count": 241,
     "metadata": {},
     "output_type": "execute_result"
    }
   ],
   "source": [
    "spread([1, 2, 3, [4, 5, 6], [7], 8, 9]) # [1, 2, 3, 4, 5, 6, 7, 8, 9]"
   ]
  },
  {
   "cell_type": "markdown",
   "metadata": {},
   "source": [
    "### sum_by\n",
    "\n",
    "Returns the sum of a list, after mapping each element to a value using the provided function.\n",
    "\n",
    "Use `map()` with `fn` to map each element to a value using the provided function, use `sum()` to return the sum of the values."
   ]
  },
  {
   "cell_type": "code",
   "execution_count": 242,
   "metadata": {},
   "outputs": [],
   "source": [
    "def sum_by(lst, fn):\n",
    "  return sum(map(fn, lst))"
   ]
  },
  {
   "cell_type": "code",
   "execution_count": 243,
   "metadata": {},
   "outputs": [
    {
     "data": {
      "text/plain": [
       "20"
      ]
     },
     "execution_count": 243,
     "metadata": {},
     "output_type": "execute_result"
    }
   ],
   "source": [
    "sum_by([{ 'n': 4 }, { 'n': 2 }, { 'n': 8 }, { 'n': 6 }], lambda v : v['n']) # 20"
   ]
  },
  {
   "cell_type": "markdown",
   "metadata": {},
   "source": [
    "### symmetric_difference_by\n",
    "\n",
    "Returns the symmetric difference between two lists, after applying the provided function to each list element of both.\n",
    "\n",
    "Create a `set` by applying `fn` to each element in every list, then use list comprehension in combination with `fn` on each one to only keep values not contained in the previously created set of the other."
   ]
  },
  {
   "cell_type": "code",
   "execution_count": 244,
   "metadata": {},
   "outputs": [],
   "source": [
    "def symmetric_difference_by(a, b, fn):\n",
    "  _a, _b = set(map(fn, a)), set(map(fn, b))\n",
    "  return [item for item in a if fn(item) not in _b] + [item for item in b if fn(item) not in _a]"
   ]
  },
  {
   "cell_type": "code",
   "execution_count": 245,
   "metadata": {},
   "outputs": [
    {
     "data": {
      "text/plain": [
       "[1.2, 3.4]"
      ]
     },
     "execution_count": 245,
     "metadata": {},
     "output_type": "execute_result"
    }
   ],
   "source": [
    "from math import floor\n",
    "symmetric_difference_by([2.1, 1.2], [2.3, 3.4],floor) # [1.2, 3.4]"
   ]
  },
  {
   "cell_type": "markdown",
   "metadata": {},
   "source": [
    "### symmetric_difference\n",
    "\n",
    "Returns the symmetric difference between two iterables, without filtering out duplicate values.\n",
    "\n",
    "Create a `set` from each list, then use list comprehension on each one to only keep values not contained in the previously created set of the other."
   ]
  },
  {
   "cell_type": "code",
   "execution_count": 246,
   "metadata": {},
   "outputs": [],
   "source": [
    "def symmetric_difference(a, b):\n",
    "  _a, _b = set(a), set(b)\n",
    "  return [item for item in a if item not in _b] + [item for item in b if item not in _a]"
   ]
  },
  {
   "cell_type": "code",
   "execution_count": 247,
   "metadata": {},
   "outputs": [
    {
     "data": {
      "text/plain": [
       "[3, 4]"
      ]
     },
     "execution_count": 247,
     "metadata": {},
     "output_type": "execute_result"
    }
   ],
   "source": [
    "symmetric_difference([1, 2, 3], [1, 2, 4]) # [3, 4]"
   ]
  },
  {
   "cell_type": "markdown",
   "metadata": {},
   "source": [
    "### tail\n",
    "\n",
    "Returns all elements in a list except for the first one.\n",
    "\n",
    "Return `lst[1:]` if the list's length is more than `1`, otherwise, return the whole list."
   ]
  },
  {
   "cell_type": "code",
   "execution_count": 248,
   "metadata": {},
   "outputs": [],
   "source": [
    "def tail(lst):\n",
    "  return lst[1:] if len(lst) > 1 else lst"
   ]
  },
  {
   "cell_type": "code",
   "execution_count": 249,
   "metadata": {},
   "outputs": [
    {
     "data": {
      "text/plain": [
       "[2, 3]"
      ]
     },
     "execution_count": 249,
     "metadata": {},
     "output_type": "execute_result"
    }
   ],
   "source": [
    "tail([1, 2, 3]) # [2,3]"
   ]
  },
  {
   "cell_type": "code",
   "execution_count": 250,
   "metadata": {},
   "outputs": [
    {
     "data": {
      "text/plain": [
       "[1]"
      ]
     },
     "execution_count": 250,
     "metadata": {},
     "output_type": "execute_result"
    }
   ],
   "source": [
    "tail([1]) # [1]"
   ]
  },
  {
   "cell_type": "markdown",
   "metadata": {},
   "source": [
    "### take\n",
    "\n",
    "Returns a list with `n` elements removed from the beginning.\n",
    "\n",
    "Use slice notation to create a slice of the list with `n` elements taken from the beginning."
   ]
  },
  {
   "cell_type": "code",
   "execution_count": 251,
   "metadata": {},
   "outputs": [],
   "source": [
    "def take(itr, n = 1):\n",
    "  return itr[:n]"
   ]
  },
  {
   "cell_type": "code",
   "execution_count": 252,
   "metadata": {},
   "outputs": [
    {
     "data": {
      "text/plain": [
       "[1, 2, 3]"
      ]
     },
     "execution_count": 252,
     "metadata": {},
     "output_type": "execute_result"
    }
   ],
   "source": [
    "take([1, 2, 3], 5) # [1, 2, 3]"
   ]
  },
  {
   "cell_type": "code",
   "execution_count": 253,
   "metadata": {},
   "outputs": [
    {
     "data": {
      "text/plain": [
       "[]"
      ]
     },
     "execution_count": 253,
     "metadata": {},
     "output_type": "execute_result"
    }
   ],
   "source": [
    "take([1, 2, 3], 0) # []"
   ]
  },
  {
   "cell_type": "markdown",
   "metadata": {},
   "source": [
    "### take_right\n",
    "\n",
    "Returns a list with `n` elements removed from the end.\n",
    "\n",
    "Use slice notation to create a slice of the list with `n` elements taken from the end."
   ]
  },
  {
   "cell_type": "code",
   "execution_count": 254,
   "metadata": {},
   "outputs": [],
   "source": [
    "def take_right(itr, n = 1):\n",
    "  return itr[-n:]"
   ]
  },
  {
   "cell_type": "code",
   "execution_count": 255,
   "metadata": {},
   "outputs": [
    {
     "data": {
      "text/plain": [
       "[2, 3]"
      ]
     },
     "execution_count": 255,
     "metadata": {},
     "output_type": "execute_result"
    }
   ],
   "source": [
    "take_right([1, 2, 3], 2) # [2, 3]"
   ]
  },
  {
   "cell_type": "code",
   "execution_count": 256,
   "metadata": {},
   "outputs": [
    {
     "data": {
      "text/plain": [
       "[3]"
      ]
     },
     "execution_count": 256,
     "metadata": {},
     "output_type": "execute_result"
    }
   ],
   "source": [
    "take_right([1, 2, 3]) # [3]"
   ]
  },
  {
   "cell_type": "markdown",
   "metadata": {},
   "source": [
    "### to_dictionary\n",
    "\n",
    "Combines two lists into a dictionary, where the elements of the first one serve as the keys and the elements of the second one serve as the values.\n",
    "The values of the first list need to be unique and hashable.\n",
    "\n",
    "Use `zip()` in combination with a list comprehension to combine the values of the two lists, based on their positions."
   ]
  },
  {
   "cell_type": "code",
   "execution_count": 257,
   "metadata": {},
   "outputs": [],
   "source": [
    "def to_dictionary(keys, values):\n",
    "  return {key:value for key, value in zip(keys, values)}"
   ]
  },
  {
   "cell_type": "code",
   "execution_count": 258,
   "metadata": {},
   "outputs": [
    {
     "data": {
      "text/plain": [
       "{'a': 1, 'b': 2}"
      ]
     },
     "execution_count": 258,
     "metadata": {},
     "output_type": "execute_result"
    }
   ],
   "source": [
    "to_dictionary(['a', 'b'], [1, 2]) # { a: 1, b: 2 }"
   ]
  },
  {
   "cell_type": "markdown",
   "metadata": {},
   "source": [
    "### transpose\n",
    "\n",
    "Returns the transpose of a two-dimensional list.\n",
    "\n",
    "Use `*lst` to get the passed list as tuples.\n",
    "Use `zip()` in combination with `list()` to create the transpose of the given two-dimensional list."
   ]
  },
  {
   "cell_type": "code",
   "execution_count": 259,
   "metadata": {},
   "outputs": [],
   "source": [
    "def transpose(lst):\n",
    "  return list(zip(*lst))"
   ]
  },
  {
   "cell_type": "code",
   "execution_count": 260,
   "metadata": {},
   "outputs": [
    {
     "data": {
      "text/plain": [
       "[(1, 4, 7, 10), (2, 5, 8, 11), (3, 6, 9, 12)]"
      ]
     },
     "execution_count": 260,
     "metadata": {},
     "output_type": "execute_result"
    }
   ],
   "source": [
    "transpose([[1, 2, 3], [4, 5, 6], [7, 8, 9], [10, 11, 12]]) # [(1, 4, 7, 10), (2, 5, 8, 11), (3, 6, 9, 12)]"
   ]
  },
  {
   "cell_type": "markdown",
   "metadata": {},
   "source": [
    "### unfold\n",
    "\n",
    "Builds a list, using an iterator function and an initial seed value.\n",
    "\n",
    "The iterator function accepts one argument (`seed`) and must always return a list with two elements ([`value`, `nextSeed`]) or `False` to terminate.\n",
    "Use a generator function, `fn_generator`, that uses a `while` loop to call the iterator function and `yield` the `value` until it returns `False`.\n",
    "Use list comprehension to return the list that is produced by the generator, using the iterator function."
   ]
  },
  {
   "cell_type": "code",
   "execution_count": 261,
   "metadata": {},
   "outputs": [],
   "source": [
    "def unfold(fn, seed):\n",
    "  def fn_generator(val):\n",
    "    while True:\n",
    "      val = fn(val[1])\n",
    "      if val == False: break\n",
    "      yield val[0]\n",
    "  return [i for i in fn_generator([None, seed])]"
   ]
  },
  {
   "cell_type": "code",
   "execution_count": 262,
   "metadata": {},
   "outputs": [
    {
     "data": {
      "text/plain": [
       "[-10, -20, -30, -40, -50]"
      ]
     },
     "execution_count": 262,
     "metadata": {},
     "output_type": "execute_result"
    }
   ],
   "source": [
    "f = lambda n: False if n > 50 else [-n, n + 10]\n",
    "unfold(f, 10) # [-10, -20, -30, -40, -50]"
   ]
  },
  {
   "cell_type": "markdown",
   "metadata": {},
   "source": [
    "### union_by\n",
    "\n",
    "Returns every element that exists in any of the two lists once, after applying the provided function to each element of both.\n",
    "\n",
    "Create a `set` by applying `fn` to each element in `a`, then use list comprehension in combination with `fn` on `b` to only keep values not contained in the previously created set, `_a`.\n",
    "Finally, create a `set` from the previous result and `a` and transform it into a `list`"
   ]
  },
  {
   "cell_type": "code",
   "execution_count": 263,
   "metadata": {},
   "outputs": [],
   "source": [
    "def union_by(a, b, fn):\n",
    "  _a = set(map(fn, a))\n",
    "  return list(set(a + [item for item in b if fn(item) not in _a]))"
   ]
  },
  {
   "cell_type": "code",
   "execution_count": 264,
   "metadata": {},
   "outputs": [
    {
     "data": {
      "text/plain": [
       "[1.2, 2.1]"
      ]
     },
     "execution_count": 264,
     "metadata": {},
     "output_type": "execute_result"
    }
   ],
   "source": [
    "from math import floor\n",
    "union_by([2.1], [1.2, 2.3], floor) # [2.1, 1.2]"
   ]
  },
  {
   "cell_type": "markdown",
   "metadata": {},
   "source": [
    "### union\n",
    "\n",
    "Returns every element that exists in any of the two lists once.\n",
    "\n",
    "Create a `set` with all values of `a` and `b` and convert to a `list`."
   ]
  },
  {
   "cell_type": "code",
   "execution_count": 265,
   "metadata": {},
   "outputs": [],
   "source": [
    "def union(a, b):\n",
    "  return list(set(a + b))"
   ]
  },
  {
   "cell_type": "code",
   "execution_count": 266,
   "metadata": {},
   "outputs": [
    {
     "data": {
      "text/plain": [
       "[1, 2, 3, 4]"
      ]
     },
     "execution_count": 266,
     "metadata": {},
     "output_type": "execute_result"
    }
   ],
   "source": [
    "union([1, 2, 3], [4, 3, 2]) # [1,2,3,4]"
   ]
  },
  {
   "cell_type": "markdown",
   "metadata": {},
   "source": [
    "### unique_elements\n",
    "\n",
    "Returns the unique elements in a given list.\n",
    "\n",
    "Create a `set` from the list to discard duplicated values, then return a `list` from it."
   ]
  },
  {
   "cell_type": "code",
   "execution_count": 267,
   "metadata": {},
   "outputs": [],
   "source": [
    "def unique_elements(li):\n",
    "  return list(set(li))"
   ]
  },
  {
   "cell_type": "code",
   "execution_count": 268,
   "metadata": {},
   "outputs": [
    {
     "data": {
      "text/plain": [
       "[1, 2, 3, 4]"
      ]
     },
     "execution_count": 268,
     "metadata": {},
     "output_type": "execute_result"
    }
   ],
   "source": [
    "unique_elements([1, 2, 2, 3, 4, 3]) # [1, 2, 3, 4]"
   ]
  },
  {
   "cell_type": "markdown",
   "metadata": {},
   "source": [
    "### values_only\n",
    "\n",
    "Returns a flat list of all the values in a flat dictionary.\n",
    "\n",
    "Use `dict.values()` to return the values in the given dictionary.\n",
    "Return a `list()` of the previous result."
   ]
  },
  {
   "cell_type": "code",
   "execution_count": 269,
   "metadata": {},
   "outputs": [],
   "source": [
    "def values_only(flat_dict):\n",
    "  return list(flat_dict.values())"
   ]
  },
  {
   "cell_type": "code",
   "execution_count": 270,
   "metadata": {},
   "outputs": [
    {
     "data": {
      "text/plain": [
       "[10, 11, 9]"
      ]
     },
     "execution_count": 270,
     "metadata": {},
     "output_type": "execute_result"
    }
   ],
   "source": [
    "ages = {\n",
    "  \"Peter\": 10,\n",
    "  \"Isabel\": 11,\n",
    "  \"Anna\": 9,\n",
    "}\n",
    "values_only(ages) # [10, 11, 9]"
   ]
  },
  {
   "cell_type": "markdown",
   "metadata": {},
   "source": [
    "### when\n",
    "\n",
    "Tests a value, `x`, against a `predicate` function, conditionally applying a function.\n",
    "\n",
    "Check if the value of `predicate(x)` is `True` and if so return `when_true(x)`, otherwise return `x`."
   ]
  },
  {
   "cell_type": "code",
   "execution_count": 271,
   "metadata": {},
   "outputs": [],
   "source": [
    "def when(predicate, when_true):\n",
    "  return lambda x: when_true(x) if predicate(x) else x"
   ]
  },
  {
   "cell_type": "code",
   "execution_count": 272,
   "metadata": {},
   "outputs": [],
   "source": [
    "double_even_numbers = when(lambda x: x % 2 == 0, lambda x : x * 2)"
   ]
  },
  {
   "cell_type": "code",
   "execution_count": 273,
   "metadata": {},
   "outputs": [
    {
     "data": {
      "text/plain": [
       "4"
      ]
     },
     "execution_count": 273,
     "metadata": {},
     "output_type": "execute_result"
    }
   ],
   "source": [
    "double_even_numbers(2) # 4"
   ]
  },
  {
   "cell_type": "code",
   "execution_count": 274,
   "metadata": {},
   "outputs": [
    {
     "data": {
      "text/plain": [
       "1"
      ]
     },
     "execution_count": 274,
     "metadata": {},
     "output_type": "execute_result"
    }
   ],
   "source": [
    "double_even_numbers(1) # 1"
   ]
  },
  {
   "cell_type": "code",
   "execution_count": null,
   "metadata": {},
   "outputs": [],
   "source": []
  },
  {
   "cell_type": "code",
   "execution_count": null,
   "metadata": {},
   "outputs": [],
   "source": []
  }
 ],
 "metadata": {
  "kernelspec": {
   "display_name": "Python 3",
   "language": "python",
   "name": "python3"
  },
  "language_info": {
   "codemirror_mode": {
    "name": "ipython",
    "version": 3
   },
   "file_extension": ".py",
   "mimetype": "text/x-python",
   "name": "python",
   "nbconvert_exporter": "python",
   "pygments_lexer": "ipython3",
   "version": "3.6.7"
  }
 },
 "nbformat": 4,
 "nbformat_minor": 2
}
