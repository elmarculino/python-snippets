{
 "cells": [
  {
   "cell_type": "code",
   "execution_count": 5,
   "metadata": {},
   "outputs": [],
   "source": [
    "class Pessoa:\n",
    "    def __init__(self, nome, telefone):\n",
    "        self.nome = nome\n",
    "        self.telefone = telefone\n",
    "        \n",
    "    def getName(self):\n",
    "        return self.nome\n",
    "    \n",
    "    def getPhone(self):\n",
    "        return self.telefone"
   ]
  },
  {
   "cell_type": "code",
   "execution_count": 6,
   "metadata": {},
   "outputs": [
    {
     "name": "stdout",
     "output_type": "stream",
     "text": [
      "Marco Ribeiro\n",
      "(61) 99999-8888\n"
     ]
    }
   ],
   "source": [
    "marco = Pessoa('Marco Ribeiro', '(61) 99999-8888')\n",
    "print(marco.getName())\n",
    "print(marco.getPhone())"
   ]
  },
  {
   "cell_type": "code",
   "execution_count": 7,
   "metadata": {},
   "outputs": [],
   "source": [
    "class PessoaFisica(Pessoa):\n",
    "    def __init__(self, cpf, nome, telefone):\n",
    "        super().__init__(nome, telefone)\n",
    "        self.cpf = cpf\n",
    "        \n",
    "    def getCpf(self):\n",
    "        return self.cpf"
   ]
  },
  {
   "cell_type": "code",
   "execution_count": 8,
   "metadata": {},
   "outputs": [
    {
     "name": "stdout",
     "output_type": "stream",
     "text": [
      "Marco Ribeiro\n",
      "(61) 99999-8888\n",
      "999.888.777-44\n"
     ]
    }
   ],
   "source": [
    "marco = PessoaFisica('999.888.777-44', 'Marco Ribeiro', '(61) 99999-8888')\n",
    "print(marco.getName())\n",
    "print(marco.getPhone())\n",
    "print(marco.getCpf())"
   ]
  },
  {
   "cell_type": "code",
   "execution_count": null,
   "metadata": {},
   "outputs": [],
   "source": []
  }
 ],
 "metadata": {
  "kernelspec": {
   "display_name": "Python 3",
   "language": "python",
   "name": "python3"
  },
  "language_info": {
   "codemirror_mode": {
    "name": "ipython",
    "version": 3
   },
   "file_extension": ".py",
   "mimetype": "text/x-python",
   "name": "python",
   "nbconvert_exporter": "python",
   "pygments_lexer": "ipython3",
   "version": "3.6.7"
  }
 },
 "nbformat": 4,
 "nbformat_minor": 2
}
